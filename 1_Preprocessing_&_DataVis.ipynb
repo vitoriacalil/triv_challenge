{
 "cells": [
  {
   "cell_type": "markdown",
   "metadata": {},
   "source": [
    "**Import libraries**"
   ]
  },
  {
   "cell_type": "code",
   "execution_count": 1,
   "metadata": {},
   "outputs": [],
   "source": [
    "import pandas as pd\n",
    "import numpy as np\n",
    "import seaborn as sns\n",
    "import matplotlib.pyplot as plt\n",
    "from datetime import datetime\n",
    "\n",
    "from pprint import pprint"
   ]
  },
  {
   "cell_type": "code",
   "execution_count": 2,
   "metadata": {},
   "outputs": [],
   "source": [
    "df = pd.read_csv('Rate_Connect_DS_case_study.csv', sep=';')"
   ]
  },
  {
   "cell_type": "code",
   "execution_count": 3,
   "metadata": {},
   "outputs": [
    {
     "data": {
      "text/html": [
       "<div>\n",
       "<style scoped>\n",
       "    .dataframe tbody tr th:only-of-type {\n",
       "        vertical-align: middle;\n",
       "    }\n",
       "\n",
       "    .dataframe tbody tr th {\n",
       "        vertical-align: top;\n",
       "    }\n",
       "\n",
       "    .dataframe thead th {\n",
       "        text-align: right;\n",
       "    }\n",
       "</style>\n",
       "<table border=\"1\" class=\"dataframe\">\n",
       "  <thead>\n",
       "    <tr style=\"text-align: right;\">\n",
       "      <th></th>\n",
       "      <th>hotel_id</th>\n",
       "      <th>locale</th>\n",
       "      <th>ymd</th>\n",
       "      <th>city</th>\n",
       "      <th>country</th>\n",
       "      <th>abc_category</th>\n",
       "      <th>stars</th>\n",
       "      <th>rating</th>\n",
       "      <th>direct_cost</th>\n",
       "      <th>other_cost</th>\n",
       "      <th>direct_clicks</th>\n",
       "      <th>other_clicks</th>\n",
       "      <th>direct_bookings</th>\n",
       "      <th>other_bookings</th>\n",
       "      <th>direct_booking_value</th>\n",
       "      <th>other_booking_value</th>\n",
       "    </tr>\n",
       "  </thead>\n",
       "  <tbody>\n",
       "    <tr>\n",
       "      <th>589261</th>\n",
       "      <td>267127</td>\n",
       "      <td>DE</td>\n",
       "      <td>20190318</td>\n",
       "      <td>Skopje</td>\n",
       "      <td>Republic of Macedonia</td>\n",
       "      <td>B</td>\n",
       "      <td>3</td>\n",
       "      <td>8278</td>\n",
       "      <td>0</td>\n",
       "      <td>630</td>\n",
       "      <td>0</td>\n",
       "      <td>9</td>\n",
       "      <td>0</td>\n",
       "      <td>0</td>\n",
       "      <td>0.0</td>\n",
       "      <td>0.0</td>\n",
       "    </tr>\n",
       "    <tr>\n",
       "      <th>589262</th>\n",
       "      <td>267981</td>\n",
       "      <td>US</td>\n",
       "      <td>20190213</td>\n",
       "      <td>Naxos - Chora</td>\n",
       "      <td>Greece</td>\n",
       "      <td>B</td>\n",
       "      <td>0</td>\n",
       "      <td>8564</td>\n",
       "      <td>0</td>\n",
       "      <td>0</td>\n",
       "      <td>0</td>\n",
       "      <td>0</td>\n",
       "      <td>0</td>\n",
       "      <td>0</td>\n",
       "      <td>0.0</td>\n",
       "      <td>0.0</td>\n",
       "    </tr>\n",
       "    <tr>\n",
       "      <th>589263</th>\n",
       "      <td>267981</td>\n",
       "      <td>US</td>\n",
       "      <td>20190313</td>\n",
       "      <td>Naxos - Chora</td>\n",
       "      <td>Greece</td>\n",
       "      <td>B</td>\n",
       "      <td>0</td>\n",
       "      <td>8564</td>\n",
       "      <td>0</td>\n",
       "      <td>0</td>\n",
       "      <td>0</td>\n",
       "      <td>0</td>\n",
       "      <td>0</td>\n",
       "      <td>0</td>\n",
       "      <td>0.0</td>\n",
       "      <td>0.0</td>\n",
       "    </tr>\n",
       "    <tr>\n",
       "      <th>589264</th>\n",
       "      <td>268850</td>\n",
       "      <td>DE</td>\n",
       "      <td>20190111</td>\n",
       "      <td>Sevenum</td>\n",
       "      <td>Netherlands</td>\n",
       "      <td>C2</td>\n",
       "      <td>3</td>\n",
       "      <td>8526</td>\n",
       "      <td>87</td>\n",
       "      <td>0</td>\n",
       "      <td>1</td>\n",
       "      <td>0</td>\n",
       "      <td>0</td>\n",
       "      <td>0</td>\n",
       "      <td>0.0</td>\n",
       "      <td>0.0</td>\n",
       "    </tr>\n",
       "    <tr>\n",
       "      <th>589265</th>\n",
       "      <td>268850</td>\n",
       "      <td>DE</td>\n",
       "      <td>20190203</td>\n",
       "      <td>Sevenum</td>\n",
       "      <td>Netherlands</td>\n",
       "      <td>C2</td>\n",
       "      <td>3</td>\n",
       "      <td>8526</td>\n",
       "      <td>0</td>\n",
       "      <td>0</td>\n",
       "      <td>0</td>\n",
       "      <td>0</td>\n",
       "      <td>0</td>\n",
       "      <td>0</td>\n",
       "      <td>0.0</td>\n",
       "      <td>0.0</td>\n",
       "    </tr>\n",
       "  </tbody>\n",
       "</table>\n",
       "</div>"
      ],
      "text/plain": [
       "        hotel_id locale       ymd           city                country  \\\n",
       "589261    267127     DE  20190318         Skopje  Republic of Macedonia   \n",
       "589262    267981     US  20190213  Naxos - Chora                 Greece   \n",
       "589263    267981     US  20190313  Naxos - Chora                 Greece   \n",
       "589264    268850     DE  20190111        Sevenum            Netherlands   \n",
       "589265    268850     DE  20190203        Sevenum            Netherlands   \n",
       "\n",
       "       abc_category  stars rating  direct_cost  other_cost  direct_clicks  \\\n",
       "589261            B      3   8278            0         630              0   \n",
       "589262            B      0   8564            0           0              0   \n",
       "589263            B      0   8564            0           0              0   \n",
       "589264           C2      3   8526           87           0              1   \n",
       "589265           C2      3   8526            0           0              0   \n",
       "\n",
       "        other_clicks  direct_bookings  other_bookings  direct_booking_value  \\\n",
       "589261             9                0               0                   0.0   \n",
       "589262             0                0               0                   0.0   \n",
       "589263             0                0               0                   0.0   \n",
       "589264             0                0               0                   0.0   \n",
       "589265             0                0               0                   0.0   \n",
       "\n",
       "        other_booking_value  \n",
       "589261                  0.0  \n",
       "589262                  0.0  \n",
       "589263                  0.0  \n",
       "589264                  0.0  \n",
       "589265                  0.0  "
      ]
     },
     "execution_count": 3,
     "metadata": {},
     "output_type": "execute_result"
    }
   ],
   "source": [
    "df.tail()"
   ]
  },
  {
   "cell_type": "code",
   "execution_count": 5,
   "metadata": {},
   "outputs": [],
   "source": [
    "# transform date column\n",
    "df['date'] = df['ymd'].apply(lambda x: pd.to_datetime(str(x), format='%Y%m%d'))\n",
    "df = df.drop(columns=['ymd'])"
   ]
  },
  {
   "cell_type": "markdown",
   "metadata": {},
   "source": [
    "# 1 - Calculated Fields\n",
    "\n",
    "Here I will create the calculated fields, according to the formulas given on the challenge description\n",
    "\n",
    "To do so, first I will have to aggregate some values, than calculate those fields"
   ]
  },
  {
   "cell_type": "markdown",
   "metadata": {},
   "source": [
    "**Sum the number of direct cost per campaign**"
   ]
  },
  {
   "cell_type": "code",
   "execution_count": 9,
   "metadata": {},
   "outputs": [],
   "source": [
    "direct_cost_percampaign_df = df.groupby(['hotel_id','locale']).direct_cost.sum().reset_index()\n",
    "direct_cost_percampaign_df = direct_cost_percampaign_df.rename(columns={'direct_cost':'direct_cost_per_campaign'})\n",
    "\n",
    "df = df.merge(direct_cost_percampaign_df)\n",
    "\n",
    "del direct_cost_percampaign_df"
   ]
  },
  {
   "cell_type": "markdown",
   "metadata": {},
   "source": [
    "**Sum the number of direct direct booking value per campaign**"
   ]
  },
  {
   "cell_type": "code",
   "execution_count": 10,
   "metadata": {},
   "outputs": [],
   "source": [
    "direct_booking_value_percampaign_df = df.groupby(['hotel_id','locale']).direct_booking_value.sum().reset_index()\n",
    "direct_booking_value_percampaign_df = direct_booking_value_percampaign_df.rename(columns={'direct_booking_value':'direct_booking_value_per_campaign'})\n",
    "\n",
    "df = df.merge(direct_booking_value_percampaign_df)\n",
    "\n",
    "del direct_booking_value_percampaign_df"
   ]
  },
  {
   "cell_type": "code",
   "execution_count": 11,
   "metadata": {},
   "outputs": [
    {
     "data": {
      "text/plain": [
       "18"
      ]
     },
     "execution_count": 11,
     "metadata": {},
     "output_type": "execute_result"
    }
   ],
   "source": [
    "len(df.columns)"
   ]
  },
  {
   "cell_type": "markdown",
   "metadata": {},
   "source": [
    "## 1.1 - CPA\n",
    "Cost Per Acquisition= direct_cost/direct_booking_value\n"
   ]
  },
  {
   "cell_type": "code",
   "execution_count": 12,
   "metadata": {},
   "outputs": [],
   "source": [
    "def calculate_cpa(row):\n",
    "  if row['direct_cost_per_campaign'] != 0 and row['direct_booking_value_per_campaign'] != 0:\n",
    "    return row['direct_cost_per_campaign'] / row['direct_booking_value_per_campaign']\n",
    "  else:\n",
    "    pass\n",
    "    \n",
    "df['cpa'] = df.apply(calculate_cpa, axis=1)"
   ]
  },
  {
   "cell_type": "markdown",
   "metadata": {},
   "source": [
    "### Select Population of interest (CPA > 15%)\n",
    "The task was to \"predict a CPC bid for each hotelier's campaign that will be able to hit a 15% CPA\", so I will eliminate all campaigns that the CPA is less than 15."
   ]
  },
  {
   "cell_type": "code",
   "execution_count": 13,
   "metadata": {},
   "outputs": [],
   "source": [
    "df1 = df[(df['cpa'] > 15)]"
   ]
  },
  {
   "cell_type": "code",
   "execution_count": 14,
   "metadata": {},
   "outputs": [
    {
     "data": {
      "text/html": [
       "<div>\n",
       "<style scoped>\n",
       "    .dataframe tbody tr th:only-of-type {\n",
       "        vertical-align: middle;\n",
       "    }\n",
       "\n",
       "    .dataframe tbody tr th {\n",
       "        vertical-align: top;\n",
       "    }\n",
       "\n",
       "    .dataframe thead th {\n",
       "        text-align: right;\n",
       "    }\n",
       "</style>\n",
       "<table border=\"1\" class=\"dataframe\">\n",
       "  <thead>\n",
       "    <tr style=\"text-align: right;\">\n",
       "      <th></th>\n",
       "      <th>hotel_id</th>\n",
       "      <th>locale</th>\n",
       "      <th>city</th>\n",
       "      <th>country</th>\n",
       "      <th>abc_category</th>\n",
       "      <th>stars</th>\n",
       "      <th>rating</th>\n",
       "      <th>direct_cost</th>\n",
       "      <th>other_cost</th>\n",
       "      <th>direct_clicks</th>\n",
       "      <th>other_clicks</th>\n",
       "      <th>direct_bookings</th>\n",
       "      <th>other_bookings</th>\n",
       "      <th>direct_booking_value</th>\n",
       "      <th>other_booking_value</th>\n",
       "      <th>date</th>\n",
       "      <th>direct_cost_per_campaign</th>\n",
       "      <th>direct_booking_value_per_campaign</th>\n",
       "      <th>cpa</th>\n",
       "    </tr>\n",
       "  </thead>\n",
       "  <tbody>\n",
       "    <tr>\n",
       "      <th>1421</th>\n",
       "      <td>8967</td>\n",
       "      <td>DE</td>\n",
       "      <td>Gotha</td>\n",
       "      <td>Germany</td>\n",
       "      <td>C2</td>\n",
       "      <td>4</td>\n",
       "      <td>8153</td>\n",
       "      <td>144</td>\n",
       "      <td>74</td>\n",
       "      <td>2</td>\n",
       "      <td>1</td>\n",
       "      <td>0</td>\n",
       "      <td>0</td>\n",
       "      <td>0.0</td>\n",
       "      <td>0.0</td>\n",
       "      <td>2019-01-23</td>\n",
       "      <td>22383</td>\n",
       "      <td>1207.0</td>\n",
       "      <td>18.544325</td>\n",
       "    </tr>\n",
       "    <tr>\n",
       "      <th>1422</th>\n",
       "      <td>8967</td>\n",
       "      <td>DE</td>\n",
       "      <td>Gotha</td>\n",
       "      <td>Germany</td>\n",
       "      <td>C2</td>\n",
       "      <td>4</td>\n",
       "      <td>8153</td>\n",
       "      <td>385</td>\n",
       "      <td>0</td>\n",
       "      <td>5</td>\n",
       "      <td>0</td>\n",
       "      <td>0</td>\n",
       "      <td>0</td>\n",
       "      <td>0.0</td>\n",
       "      <td>0.0</td>\n",
       "      <td>2019-01-10</td>\n",
       "      <td>22383</td>\n",
       "      <td>1207.0</td>\n",
       "      <td>18.544325</td>\n",
       "    </tr>\n",
       "    <tr>\n",
       "      <th>1423</th>\n",
       "      <td>8967</td>\n",
       "      <td>DE</td>\n",
       "      <td>Gotha</td>\n",
       "      <td>Germany</td>\n",
       "      <td>C2</td>\n",
       "      <td>4</td>\n",
       "      <td>8153</td>\n",
       "      <td>532</td>\n",
       "      <td>0</td>\n",
       "      <td>7</td>\n",
       "      <td>0</td>\n",
       "      <td>0</td>\n",
       "      <td>0</td>\n",
       "      <td>0.0</td>\n",
       "      <td>0.0</td>\n",
       "      <td>2019-01-18</td>\n",
       "      <td>22383</td>\n",
       "      <td>1207.0</td>\n",
       "      <td>18.544325</td>\n",
       "    </tr>\n",
       "    <tr>\n",
       "      <th>1424</th>\n",
       "      <td>8967</td>\n",
       "      <td>DE</td>\n",
       "      <td>Gotha</td>\n",
       "      <td>Germany</td>\n",
       "      <td>C2</td>\n",
       "      <td>4</td>\n",
       "      <td>8153</td>\n",
       "      <td>576</td>\n",
       "      <td>0</td>\n",
       "      <td>8</td>\n",
       "      <td>0</td>\n",
       "      <td>0</td>\n",
       "      <td>0</td>\n",
       "      <td>0.0</td>\n",
       "      <td>0.0</td>\n",
       "      <td>2019-02-15</td>\n",
       "      <td>22383</td>\n",
       "      <td>1207.0</td>\n",
       "      <td>18.544325</td>\n",
       "    </tr>\n",
       "    <tr>\n",
       "      <th>1425</th>\n",
       "      <td>8967</td>\n",
       "      <td>DE</td>\n",
       "      <td>Gotha</td>\n",
       "      <td>Germany</td>\n",
       "      <td>C2</td>\n",
       "      <td>4</td>\n",
       "      <td>8153</td>\n",
       "      <td>222</td>\n",
       "      <td>72</td>\n",
       "      <td>3</td>\n",
       "      <td>1</td>\n",
       "      <td>0</td>\n",
       "      <td>0</td>\n",
       "      <td>0.0</td>\n",
       "      <td>0.0</td>\n",
       "      <td>2019-02-11</td>\n",
       "      <td>22383</td>\n",
       "      <td>1207.0</td>\n",
       "      <td>18.544325</td>\n",
       "    </tr>\n",
       "  </tbody>\n",
       "</table>\n",
       "</div>"
      ],
      "text/plain": [
       "      hotel_id locale   city  country abc_category  stars rating  direct_cost  \\\n",
       "1421      8967     DE  Gotha  Germany           C2      4   8153          144   \n",
       "1422      8967     DE  Gotha  Germany           C2      4   8153          385   \n",
       "1423      8967     DE  Gotha  Germany           C2      4   8153          532   \n",
       "1424      8967     DE  Gotha  Germany           C2      4   8153          576   \n",
       "1425      8967     DE  Gotha  Germany           C2      4   8153          222   \n",
       "\n",
       "      other_cost  direct_clicks  other_clicks  direct_bookings  \\\n",
       "1421          74              2             1                0   \n",
       "1422           0              5             0                0   \n",
       "1423           0              7             0                0   \n",
       "1424           0              8             0                0   \n",
       "1425          72              3             1                0   \n",
       "\n",
       "      other_bookings  direct_booking_value  other_booking_value       date  \\\n",
       "1421               0                   0.0                  0.0 2019-01-23   \n",
       "1422               0                   0.0                  0.0 2019-01-10   \n",
       "1423               0                   0.0                  0.0 2019-01-18   \n",
       "1424               0                   0.0                  0.0 2019-02-15   \n",
       "1425               0                   0.0                  0.0 2019-02-11   \n",
       "\n",
       "      direct_cost_per_campaign  direct_booking_value_per_campaign        cpa  \n",
       "1421                     22383                             1207.0  18.544325  \n",
       "1422                     22383                             1207.0  18.544325  \n",
       "1423                     22383                             1207.0  18.544325  \n",
       "1424                     22383                             1207.0  18.544325  \n",
       "1425                     22383                             1207.0  18.544325  "
      ]
     },
     "execution_count": 14,
     "metadata": {},
     "output_type": "execute_result"
    }
   ],
   "source": [
    "df1.head()"
   ]
  },
  {
   "cell_type": "code",
   "execution_count": 16,
   "metadata": {},
   "outputs": [
    {
     "data": {
      "text/html": [
       "<div>\n",
       "<style scoped>\n",
       "    .dataframe tbody tr th:only-of-type {\n",
       "        vertical-align: middle;\n",
       "    }\n",
       "\n",
       "    .dataframe tbody tr th {\n",
       "        vertical-align: top;\n",
       "    }\n",
       "\n",
       "    .dataframe thead th {\n",
       "        text-align: right;\n",
       "    }\n",
       "</style>\n",
       "<table border=\"1\" class=\"dataframe\">\n",
       "  <thead>\n",
       "    <tr style=\"text-align: right;\">\n",
       "      <th></th>\n",
       "      <th>hotel_id</th>\n",
       "      <th>locale</th>\n",
       "      <th>city</th>\n",
       "      <th>country</th>\n",
       "      <th>abc_category</th>\n",
       "      <th>stars</th>\n",
       "      <th>rating</th>\n",
       "      <th>direct_cost</th>\n",
       "      <th>other_cost</th>\n",
       "      <th>direct_clicks</th>\n",
       "      <th>other_clicks</th>\n",
       "      <th>direct_bookings</th>\n",
       "      <th>other_bookings</th>\n",
       "      <th>direct_booking_value</th>\n",
       "      <th>other_booking_value</th>\n",
       "      <th>date</th>\n",
       "      <th>direct_cost_per_campaign</th>\n",
       "      <th>direct_booking_value_per_campaign</th>\n",
       "      <th>cpa</th>\n",
       "    </tr>\n",
       "  </thead>\n",
       "  <tbody>\n",
       "    <tr>\n",
       "      <th>579917</th>\n",
       "      <td>258366</td>\n",
       "      <td>US</td>\n",
       "      <td>Monemvasia</td>\n",
       "      <td>Greece</td>\n",
       "      <td>C2</td>\n",
       "      <td>3</td>\n",
       "      <td>7972</td>\n",
       "      <td>0</td>\n",
       "      <td>0</td>\n",
       "      <td>0</td>\n",
       "      <td>0</td>\n",
       "      <td>0</td>\n",
       "      <td>0</td>\n",
       "      <td>0.0</td>\n",
       "      <td>0.0</td>\n",
       "      <td>2019-03-10</td>\n",
       "      <td>1320</td>\n",
       "      <td>85.0</td>\n",
       "      <td>15.529412</td>\n",
       "    </tr>\n",
       "    <tr>\n",
       "      <th>579918</th>\n",
       "      <td>258366</td>\n",
       "      <td>US</td>\n",
       "      <td>Monemvasia</td>\n",
       "      <td>Greece</td>\n",
       "      <td>C2</td>\n",
       "      <td>3</td>\n",
       "      <td>7972</td>\n",
       "      <td>0</td>\n",
       "      <td>0</td>\n",
       "      <td>0</td>\n",
       "      <td>0</td>\n",
       "      <td>0</td>\n",
       "      <td>0</td>\n",
       "      <td>0.0</td>\n",
       "      <td>0.0</td>\n",
       "      <td>2019-01-06</td>\n",
       "      <td>1320</td>\n",
       "      <td>85.0</td>\n",
       "      <td>15.529412</td>\n",
       "    </tr>\n",
       "    <tr>\n",
       "      <th>579919</th>\n",
       "      <td>258366</td>\n",
       "      <td>US</td>\n",
       "      <td>Monemvasia</td>\n",
       "      <td>Greece</td>\n",
       "      <td>C2</td>\n",
       "      <td>3</td>\n",
       "      <td>7972</td>\n",
       "      <td>0</td>\n",
       "      <td>0</td>\n",
       "      <td>0</td>\n",
       "      <td>0</td>\n",
       "      <td>0</td>\n",
       "      <td>0</td>\n",
       "      <td>0.0</td>\n",
       "      <td>0.0</td>\n",
       "      <td>2019-03-22</td>\n",
       "      <td>1320</td>\n",
       "      <td>85.0</td>\n",
       "      <td>15.529412</td>\n",
       "    </tr>\n",
       "  </tbody>\n",
       "</table>\n",
       "</div>"
      ],
      "text/plain": [
       "        hotel_id locale        city country abc_category  stars rating  \\\n",
       "579917    258366     US  Monemvasia  Greece           C2      3   7972   \n",
       "579918    258366     US  Monemvasia  Greece           C2      3   7972   \n",
       "579919    258366     US  Monemvasia  Greece           C2      3   7972   \n",
       "\n",
       "        direct_cost  other_cost  direct_clicks  other_clicks  direct_bookings  \\\n",
       "579917            0           0              0             0                0   \n",
       "579918            0           0              0             0                0   \n",
       "579919            0           0              0             0                0   \n",
       "\n",
       "        other_bookings  direct_booking_value  other_booking_value       date  \\\n",
       "579917               0                   0.0                  0.0 2019-03-10   \n",
       "579918               0                   0.0                  0.0 2019-01-06   \n",
       "579919               0                   0.0                  0.0 2019-03-22   \n",
       "\n",
       "        direct_cost_per_campaign  direct_booking_value_per_campaign        cpa  \n",
       "579917                      1320                               85.0  15.529412  \n",
       "579918                      1320                               85.0  15.529412  \n",
       "579919                      1320                               85.0  15.529412  "
      ]
     },
     "execution_count": 16,
     "metadata": {},
     "output_type": "execute_result"
    }
   ],
   "source": [
    "df1.tail(3)"
   ]
  },
  {
   "cell_type": "code",
   "execution_count": 17,
   "metadata": {},
   "outputs": [
    {
     "data": {
      "text/plain": [
       "109967"
      ]
     },
     "execution_count": 17,
     "metadata": {},
     "output_type": "execute_result"
    }
   ],
   "source": [
    "len(df1)"
   ]
  },
  {
   "cell_type": "code",
   "execution_count": 162,
   "metadata": {},
   "outputs": [],
   "source": [
    "# df1.to_csv(cpa_bigger_than_15.csv')"
   ]
  },
  {
   "cell_type": "markdown",
   "metadata": {},
   "source": [
    "## 1.2 - BVPC\n",
    " BVPC = direct_booking_value/direct_clicks"
   ]
  },
  {
   "cell_type": "markdown",
   "metadata": {},
   "source": [
    "### Sum the number of direct clicks per campaign"
   ]
  },
  {
   "cell_type": "code",
   "execution_count": 18,
   "metadata": {},
   "outputs": [],
   "source": [
    "direct_clicks_percampaign_df = df1.groupby(['hotel_id','locale']).direct_clicks.sum().reset_index()\n",
    "\n",
    "direct_clicks_percampaign_df =  direct_clicks_percampaign_df.rename(columns={'direct_clicks':'direct_clicks_per_campaign'})\n",
    "\n",
    "df1 = df1.merge(direct_clicks_percampaign_df)\n",
    "\n",
    "del direct_clicks_percampaign_df"
   ]
  },
  {
   "cell_type": "code",
   "execution_count": 19,
   "metadata": {},
   "outputs": [],
   "source": [
    "def calculate_bvcp(row):\n",
    "    if row['direct_clicks_per_campaign'] != 0 and row['direct_booking_value_per_campaign'] != 0:\n",
    "        return row['direct_booking_value_per_campaign'] / row['direct_clicks_per_campaign']\n",
    "    else:\n",
    "        pass\n",
    "    \n",
    "df1['bvpc'] = df1.apply(calculate_bvcp, axis=1)"
   ]
  },
  {
   "cell_type": "markdown",
   "metadata": {},
   "source": [
    "**Plot BVPC by locale**"
   ]
  },
  {
   "cell_type": "code",
   "execution_count": 20,
   "metadata": {},
   "outputs": [
    {
     "data": {
      "image/png": "[encoded data removed]",
      "text/plain": [
       "<Figure size 432x288 with 1 Axes>"
      ]
     },
     "metadata": {
      "needs_background": "light"
     },
     "output_type": "display_data"
    }
   ],
   "source": [
    "col_order = df1.groupby(['locale'])['bvpc'].aggregate(np.median).reset_index().sort_values('bvpc')\n",
    "p = sns.boxplot(x = 'locale', y = 'bvpc', palette = 'Set2', data = df1, order=col_order['locale'], linewidth = 1.5)\n",
    "plt.setp(p.get_xticklabels(), rotation=45);"
   ]
  },
  {
   "cell_type": "markdown",
   "metadata": {},
   "source": [
    "The plot above show us that there are some outlier, I will now eliminate every campaign that the bvpc is 3 std deviation from the mean."
   ]
  },
  {
   "cell_type": "code",
   "execution_count": 21,
   "metadata": {},
   "outputs": [
    {
     "data": {
      "text/plain": [
       "3.3898366819178323"
      ]
     },
     "execution_count": 21,
     "metadata": {},
     "output_type": "execute_result"
    }
   ],
   "source": [
    "# Plot the BVPC mean\n",
    "df1['bvpc'].mean()"
   ]
  },
  {
   "cell_type": "markdown",
   "metadata": {},
   "source": [
    "## 1.3 - CPC\n",
    "\n",
    "CPC = CPA * BVPC"
   ]
  },
  {
   "cell_type": "code",
   "execution_count": 22,
   "metadata": {},
   "outputs": [],
   "source": [
    "# Creat Cost Per Click column (cpc)\n",
    "def calculate_cpc(row):\n",
    "    if row['cpa'] != 0 and row['bvpc'] != 0:\n",
    "        return row['cpa'] * row['bvpc']\n",
    "    else:\n",
    "        pass\n",
    "    \n",
    "df1['cpc'] = df1.apply(calculate_cpc, axis=1)"
   ]
  },
  {
   "cell_type": "code",
   "execution_count": 23,
   "metadata": {},
   "outputs": [],
   "source": [
    "# create campaign_id column so I can stop making groupby everytime\n",
    "# although, this will increase the volumen of the dataset\n",
    "df1['campaign_id'] = df1.apply(lambda x: str(x['hotel_id']) + '_' + str(x['locale']), axis=1)"
   ]
  },
  {
   "cell_type": "code",
   "execution_count": 24,
   "metadata": {},
   "outputs": [
    {
     "data": {
      "text/html": [
       "<div>\n",
       "<style scoped>\n",
       "    .dataframe tbody tr th:only-of-type {\n",
       "        vertical-align: middle;\n",
       "    }\n",
       "\n",
       "    .dataframe tbody tr th {\n",
       "        vertical-align: top;\n",
       "    }\n",
       "\n",
       "    .dataframe thead th {\n",
       "        text-align: right;\n",
       "    }\n",
       "</style>\n",
       "<table border=\"1\" class=\"dataframe\">\n",
       "  <thead>\n",
       "    <tr style=\"text-align: right;\">\n",
       "      <th></th>\n",
       "      <th>hotel_id</th>\n",
       "      <th>locale</th>\n",
       "      <th>city</th>\n",
       "      <th>country</th>\n",
       "      <th>abc_category</th>\n",
       "      <th>stars</th>\n",
       "      <th>rating</th>\n",
       "      <th>direct_cost</th>\n",
       "      <th>other_cost</th>\n",
       "      <th>direct_clicks</th>\n",
       "      <th>...</th>\n",
       "      <th>direct_booking_value</th>\n",
       "      <th>other_booking_value</th>\n",
       "      <th>date</th>\n",
       "      <th>direct_cost_per_campaign</th>\n",
       "      <th>direct_booking_value_per_campaign</th>\n",
       "      <th>cpa</th>\n",
       "      <th>direct_clicks_per_campaign</th>\n",
       "      <th>bvpc</th>\n",
       "      <th>cpc</th>\n",
       "      <th>campaign_id</th>\n",
       "    </tr>\n",
       "  </thead>\n",
       "  <tbody>\n",
       "    <tr>\n",
       "      <th>109965</th>\n",
       "      <td>258366</td>\n",
       "      <td>US</td>\n",
       "      <td>Monemvasia</td>\n",
       "      <td>Greece</td>\n",
       "      <td>C2</td>\n",
       "      <td>3</td>\n",
       "      <td>7972</td>\n",
       "      <td>0</td>\n",
       "      <td>0</td>\n",
       "      <td>0</td>\n",
       "      <td>...</td>\n",
       "      <td>0.0</td>\n",
       "      <td>0.0</td>\n",
       "      <td>2019-01-06</td>\n",
       "      <td>1320</td>\n",
       "      <td>85.0</td>\n",
       "      <td>15.529412</td>\n",
       "      <td>9</td>\n",
       "      <td>9.444444</td>\n",
       "      <td>146.666667</td>\n",
       "      <td>258366_US</td>\n",
       "    </tr>\n",
       "    <tr>\n",
       "      <th>109966</th>\n",
       "      <td>258366</td>\n",
       "      <td>US</td>\n",
       "      <td>Monemvasia</td>\n",
       "      <td>Greece</td>\n",
       "      <td>C2</td>\n",
       "      <td>3</td>\n",
       "      <td>7972</td>\n",
       "      <td>0</td>\n",
       "      <td>0</td>\n",
       "      <td>0</td>\n",
       "      <td>...</td>\n",
       "      <td>0.0</td>\n",
       "      <td>0.0</td>\n",
       "      <td>2019-03-22</td>\n",
       "      <td>1320</td>\n",
       "      <td>85.0</td>\n",
       "      <td>15.529412</td>\n",
       "      <td>9</td>\n",
       "      <td>9.444444</td>\n",
       "      <td>146.666667</td>\n",
       "      <td>258366_US</td>\n",
       "    </tr>\n",
       "  </tbody>\n",
       "</table>\n",
       "<p>2 rows × 23 columns</p>\n",
       "</div>"
      ],
      "text/plain": [
       "        hotel_id locale        city country abc_category  stars rating  \\\n",
       "109965    258366     US  Monemvasia  Greece           C2      3   7972   \n",
       "109966    258366     US  Monemvasia  Greece           C2      3   7972   \n",
       "\n",
       "        direct_cost  other_cost  direct_clicks  ...  direct_booking_value  \\\n",
       "109965            0           0              0  ...                   0.0   \n",
       "109966            0           0              0  ...                   0.0   \n",
       "\n",
       "        other_booking_value       date  direct_cost_per_campaign  \\\n",
       "109965                  0.0 2019-01-06                      1320   \n",
       "109966                  0.0 2019-03-22                      1320   \n",
       "\n",
       "        direct_booking_value_per_campaign        cpa  \\\n",
       "109965                               85.0  15.529412   \n",
       "109966                               85.0  15.529412   \n",
       "\n",
       "        direct_clicks_per_campaign      bvpc         cpc  campaign_id  \n",
       "109965                           9  9.444444  146.666667    258366_US  \n",
       "109966                           9  9.444444  146.666667    258366_US  \n",
       "\n",
       "[2 rows x 23 columns]"
      ]
     },
     "execution_count": 24,
     "metadata": {},
     "output_type": "execute_result"
    }
   ],
   "source": [
    "df1.tail(2)"
   ]
  },
  {
   "cell_type": "markdown",
   "metadata": {},
   "source": [
    "# 2 - Feature Engineering\n",
    "\n",
    "Manipulate data and create new columns. Below I will explain what each column means, and why I believe they are important when predicting bid.\n",
    "\n",
    "**first_conv_click** - I calculated how many clicks it took for each campaign to have the first action. \n",
    "\n",
    "**first_conv_date** - When the first action/conversion occured.\n",
    "\n",
    "**days_till_convert** - How many days it took to see the first conversion for wach campaign."
   ]
  },
  {
   "cell_type": "code",
   "execution_count": 25,
   "metadata": {},
   "outputs": [
    {
     "data": {
      "text/html": [
       "<div>\n",
       "<style scoped>\n",
       "    .dataframe tbody tr th:only-of-type {\n",
       "        vertical-align: middle;\n",
       "    }\n",
       "\n",
       "    .dataframe tbody tr th {\n",
       "        vertical-align: top;\n",
       "    }\n",
       "\n",
       "    .dataframe thead th {\n",
       "        text-align: right;\n",
       "    }\n",
       "</style>\n",
       "<table border=\"1\" class=\"dataframe\">\n",
       "  <thead>\n",
       "    <tr style=\"text-align: right;\">\n",
       "      <th></th>\n",
       "      <th>campaign_id</th>\n",
       "      <th>direct_booking_value</th>\n",
       "      <th>direct_clicks</th>\n",
       "      <th>date</th>\n",
       "    </tr>\n",
       "  </thead>\n",
       "  <tbody>\n",
       "    <tr>\n",
       "      <th>109962</th>\n",
       "      <td>258366_US</td>\n",
       "      <td>0.0</td>\n",
       "      <td>0</td>\n",
       "      <td>2019-02-23</td>\n",
       "    </tr>\n",
       "    <tr>\n",
       "      <th>109963</th>\n",
       "      <td>258366_US</td>\n",
       "      <td>0.0</td>\n",
       "      <td>0</td>\n",
       "      <td>2019-03-21</td>\n",
       "    </tr>\n",
       "    <tr>\n",
       "      <th>109964</th>\n",
       "      <td>258366_US</td>\n",
       "      <td>0.0</td>\n",
       "      <td>0</td>\n",
       "      <td>2019-03-10</td>\n",
       "    </tr>\n",
       "    <tr>\n",
       "      <th>109965</th>\n",
       "      <td>258366_US</td>\n",
       "      <td>0.0</td>\n",
       "      <td>0</td>\n",
       "      <td>2019-01-06</td>\n",
       "    </tr>\n",
       "    <tr>\n",
       "      <th>109966</th>\n",
       "      <td>258366_US</td>\n",
       "      <td>0.0</td>\n",
       "      <td>0</td>\n",
       "      <td>2019-03-22</td>\n",
       "    </tr>\n",
       "  </tbody>\n",
       "</table>\n",
       "</div>"
      ],
      "text/plain": [
       "       campaign_id  direct_booking_value  direct_clicks       date\n",
       "109962   258366_US                   0.0              0 2019-02-23\n",
       "109963   258366_US                   0.0              0 2019-03-21\n",
       "109964   258366_US                   0.0              0 2019-03-10\n",
       "109965   258366_US                   0.0              0 2019-01-06\n",
       "109966   258366_US                   0.0              0 2019-03-22"
      ]
     },
     "execution_count": 25,
     "metadata": {},
     "output_type": "execute_result"
    }
   ],
   "source": [
    "# Select columns that will be necessary to create the features described above\n",
    "roll_bvpc = df1[['campaign_id','direct_booking_value', 'direct_clicks','date']]\n",
    "\n",
    "roll_bvpc.tail()"
   ]
  },
  {
   "cell_type": "markdown",
   "metadata": {},
   "source": [
    "**first_conv_click** & **first_conv_date**\n",
    "\n",
    "As we want to check the occurence of the first occurence, I will eliminate all rows that direct_booking is 0."
   ]
  },
  {
   "cell_type": "code",
   "execution_count": 27,
   "metadata": {},
   "outputs": [
    {
     "name": "stderr",
     "output_type": "stream",
     "text": [
      "/usr/local/lib/python3.5/dist-packages/ipykernel_launcher.py:1: SettingWithCopyWarning: \n",
      "A value is trying to be set on a copy of a slice from a DataFrame.\n",
      "Try using .loc[row_indexer,col_indexer] = value instead\n",
      "\n",
      "See the caveats in the documentation: http://pandas.pydata.org/pandas-docs/stable/indexing.html#indexing-view-versus-copy\n",
      "  \"\"\"Entry point for launching an IPython kernel.\n"
     ]
    }
   ],
   "source": [
    "roll_bvpc['cumsum_clicks'] = roll_bvpc.groupby(['campaign_id']).direct_clicks.cumsum()\n",
    "roll_bvpc = roll_bvpc[roll_bvpc['direct_booking_value'] != 0]\n",
    "\n",
    "# Extract first_conv_date by taking taking the minimum value from column date, for each campaign.\n",
    "first_conv_date = roll_bvpc.groupby(['campaign_id']).date.min().reset_index()\n",
    "first_conv_date = first_conv_date.rename(columns={'date':'first_conv_date'})\n",
    "\n",
    "# Using the cumsum_clicks column that was created above, extract the first_conv_click value for each campaign.\n",
    "first_conv_click = roll_bvpc.groupby(['campaign_id']).cumsum_clicks.min().reset_index()\n",
    "first_conv_click = first_conv_click.rename(columns={'cumsum_clicks':'first_conv_click'})"
   ]
  },
  {
   "cell_type": "markdown",
   "metadata": {},
   "source": [
    "**days_till_convert**"
   ]
  },
  {
   "cell_type": "code",
   "execution_count": 28,
   "metadata": {},
   "outputs": [],
   "source": [
    "# create df with the day that each campaign started\n",
    "campaign_start = df1.groupby(['campaign_id']).date.min().reset_index()\n",
    "campaign_start = campaign_start.rename(columns={'date':'campaign_start'})\n",
    "\n",
    "# create df with the day that each campaign started\n",
    "campaign_end = df1.groupby(['campaign_id']).date.max().reset_index()\n",
    "campaign_end = campaign_end.rename(columns={'date':'campaign_end'})"
   ]
  },
  {
   "cell_type": "code",
   "execution_count": 29,
   "metadata": {},
   "outputs": [],
   "source": [
    "# merge all values into one dataframe\n",
    "first_conv = first_conv_date.merge(first_conv_click)\n",
    "first_conv = first_conv.merge(campaign_start)\n",
    "first_conv = first_conv.merge(campaign_end)\n",
    "\n",
    "# delete dataframes that will no longer be used (housekeeping)\n",
    "del roll_bvpc, first_conv_click, campaign_start, first_conv_date"
   ]
  },
  {
   "cell_type": "code",
   "execution_count": 30,
   "metadata": {},
   "outputs": [
    {
     "data": {
      "text/html": [
       "<div>\n",
       "<style scoped>\n",
       "    .dataframe tbody tr th:only-of-type {\n",
       "        vertical-align: middle;\n",
       "    }\n",
       "\n",
       "    .dataframe tbody tr th {\n",
       "        vertical-align: top;\n",
       "    }\n",
       "\n",
       "    .dataframe thead th {\n",
       "        text-align: right;\n",
       "    }\n",
       "</style>\n",
       "<table border=\"1\" class=\"dataframe\">\n",
       "  <thead>\n",
       "    <tr style=\"text-align: right;\">\n",
       "      <th></th>\n",
       "      <th>campaign_id</th>\n",
       "      <th>first_conv_date</th>\n",
       "      <th>first_conv_click</th>\n",
       "      <th>campaign_start</th>\n",
       "      <th>campaign_end</th>\n",
       "      <th>days_till_convert</th>\n",
       "    </tr>\n",
       "  </thead>\n",
       "  <tbody>\n",
       "    <tr>\n",
       "      <th>0</th>\n",
       "      <td>100000_DE</td>\n",
       "      <td>2019-01-29</td>\n",
       "      <td>66</td>\n",
       "      <td>2019-01-01</td>\n",
       "      <td>2019-03-31</td>\n",
       "      <td>28 days</td>\n",
       "    </tr>\n",
       "    <tr>\n",
       "      <th>1</th>\n",
       "      <td>100205_ES</td>\n",
       "      <td>2019-02-21</td>\n",
       "      <td>10</td>\n",
       "      <td>2019-01-17</td>\n",
       "      <td>2019-03-31</td>\n",
       "      <td>35 days</td>\n",
       "    </tr>\n",
       "  </tbody>\n",
       "</table>\n",
       "</div>"
      ],
      "text/plain": [
       "  campaign_id first_conv_date  first_conv_click campaign_start campaign_end  \\\n",
       "0   100000_DE      2019-01-29                66     2019-01-01   2019-03-31   \n",
       "1   100205_ES      2019-02-21                10     2019-01-17   2019-03-31   \n",
       "\n",
       "  days_till_convert  \n",
       "0           28 days  \n",
       "1           35 days  "
      ]
     },
     "execution_count": 30,
     "metadata": {},
     "output_type": "execute_result"
    }
   ],
   "source": [
    "# calculate delta time until the first conversion\n",
    "first_conv['days_till_convert'] = first_conv.apply(lambda x: x['first_conv_date'] - x['campaign_start'], axis=1)\n",
    "\n",
    "first_conv.head(2)"
   ]
  },
  {
   "cell_type": "markdown",
   "metadata": {},
   "source": [
    "**merge into main df**\n",
    "\n",
    "I will do an inner merge, meaning that I will only keep those campaigns that had at least one conversion.\n",
    "\n",
    "I decided to do that due to the time constraint of the challenge"
   ]
  },
  {
   "cell_type": "code",
   "execution_count": 31,
   "metadata": {},
   "outputs": [],
   "source": [
    "df1 = df1.merge(first_conv, how='inner')"
   ]
  },
  {
   "cell_type": "code",
   "execution_count": 32,
   "metadata": {},
   "outputs": [],
   "source": [
    "del first_conv"
   ]
  },
  {
   "cell_type": "code",
   "execution_count": 33,
   "metadata": {},
   "outputs": [
    {
     "data": {
      "text/html": [
       "<div>\n",
       "<style scoped>\n",
       "    .dataframe tbody tr th:only-of-type {\n",
       "        vertical-align: middle;\n",
       "    }\n",
       "\n",
       "    .dataframe tbody tr th {\n",
       "        vertical-align: top;\n",
       "    }\n",
       "\n",
       "    .dataframe thead th {\n",
       "        text-align: right;\n",
       "    }\n",
       "</style>\n",
       "<table border=\"1\" class=\"dataframe\">\n",
       "  <thead>\n",
       "    <tr style=\"text-align: right;\">\n",
       "      <th></th>\n",
       "      <th>hotel_id</th>\n",
       "      <th>locale</th>\n",
       "      <th>city</th>\n",
       "      <th>country</th>\n",
       "      <th>abc_category</th>\n",
       "      <th>stars</th>\n",
       "      <th>rating</th>\n",
       "      <th>direct_cost</th>\n",
       "      <th>other_cost</th>\n",
       "      <th>direct_clicks</th>\n",
       "      <th>...</th>\n",
       "      <th>cpa</th>\n",
       "      <th>direct_clicks_per_campaign</th>\n",
       "      <th>bvpc</th>\n",
       "      <th>cpc</th>\n",
       "      <th>campaign_id</th>\n",
       "      <th>first_conv_date</th>\n",
       "      <th>first_conv_click</th>\n",
       "      <th>campaign_start</th>\n",
       "      <th>campaign_end</th>\n",
       "      <th>days_till_convert</th>\n",
       "    </tr>\n",
       "  </thead>\n",
       "  <tbody>\n",
       "    <tr>\n",
       "      <th>0</th>\n",
       "      <td>8967</td>\n",
       "      <td>DE</td>\n",
       "      <td>Gotha</td>\n",
       "      <td>Germany</td>\n",
       "      <td>C2</td>\n",
       "      <td>4</td>\n",
       "      <td>8153</td>\n",
       "      <td>144</td>\n",
       "      <td>74</td>\n",
       "      <td>2</td>\n",
       "      <td>...</td>\n",
       "      <td>18.544325</td>\n",
       "      <td>278</td>\n",
       "      <td>4.341727</td>\n",
       "      <td>80.514388</td>\n",
       "      <td>8967_DE</td>\n",
       "      <td>2019-01-14</td>\n",
       "      <td>111</td>\n",
       "      <td>2019-01-01</td>\n",
       "      <td>2019-03-31</td>\n",
       "      <td>13 days</td>\n",
       "    </tr>\n",
       "    <tr>\n",
       "      <th>1</th>\n",
       "      <td>8967</td>\n",
       "      <td>DE</td>\n",
       "      <td>Gotha</td>\n",
       "      <td>Germany</td>\n",
       "      <td>C2</td>\n",
       "      <td>4</td>\n",
       "      <td>8153</td>\n",
       "      <td>385</td>\n",
       "      <td>0</td>\n",
       "      <td>5</td>\n",
       "      <td>...</td>\n",
       "      <td>18.544325</td>\n",
       "      <td>278</td>\n",
       "      <td>4.341727</td>\n",
       "      <td>80.514388</td>\n",
       "      <td>8967_DE</td>\n",
       "      <td>2019-01-14</td>\n",
       "      <td>111</td>\n",
       "      <td>2019-01-01</td>\n",
       "      <td>2019-03-31</td>\n",
       "      <td>13 days</td>\n",
       "    </tr>\n",
       "    <tr>\n",
       "      <th>2</th>\n",
       "      <td>8967</td>\n",
       "      <td>DE</td>\n",
       "      <td>Gotha</td>\n",
       "      <td>Germany</td>\n",
       "      <td>C2</td>\n",
       "      <td>4</td>\n",
       "      <td>8153</td>\n",
       "      <td>532</td>\n",
       "      <td>0</td>\n",
       "      <td>7</td>\n",
       "      <td>...</td>\n",
       "      <td>18.544325</td>\n",
       "      <td>278</td>\n",
       "      <td>4.341727</td>\n",
       "      <td>80.514388</td>\n",
       "      <td>8967_DE</td>\n",
       "      <td>2019-01-14</td>\n",
       "      <td>111</td>\n",
       "      <td>2019-01-01</td>\n",
       "      <td>2019-03-31</td>\n",
       "      <td>13 days</td>\n",
       "    </tr>\n",
       "    <tr>\n",
       "      <th>3</th>\n",
       "      <td>8967</td>\n",
       "      <td>DE</td>\n",
       "      <td>Gotha</td>\n",
       "      <td>Germany</td>\n",
       "      <td>C2</td>\n",
       "      <td>4</td>\n",
       "      <td>8153</td>\n",
       "      <td>576</td>\n",
       "      <td>0</td>\n",
       "      <td>8</td>\n",
       "      <td>...</td>\n",
       "      <td>18.544325</td>\n",
       "      <td>278</td>\n",
       "      <td>4.341727</td>\n",
       "      <td>80.514388</td>\n",
       "      <td>8967_DE</td>\n",
       "      <td>2019-01-14</td>\n",
       "      <td>111</td>\n",
       "      <td>2019-01-01</td>\n",
       "      <td>2019-03-31</td>\n",
       "      <td>13 days</td>\n",
       "    </tr>\n",
       "    <tr>\n",
       "      <th>4</th>\n",
       "      <td>8967</td>\n",
       "      <td>DE</td>\n",
       "      <td>Gotha</td>\n",
       "      <td>Germany</td>\n",
       "      <td>C2</td>\n",
       "      <td>4</td>\n",
       "      <td>8153</td>\n",
       "      <td>222</td>\n",
       "      <td>72</td>\n",
       "      <td>3</td>\n",
       "      <td>...</td>\n",
       "      <td>18.544325</td>\n",
       "      <td>278</td>\n",
       "      <td>4.341727</td>\n",
       "      <td>80.514388</td>\n",
       "      <td>8967_DE</td>\n",
       "      <td>2019-01-14</td>\n",
       "      <td>111</td>\n",
       "      <td>2019-01-01</td>\n",
       "      <td>2019-03-31</td>\n",
       "      <td>13 days</td>\n",
       "    </tr>\n",
       "  </tbody>\n",
       "</table>\n",
       "<p>5 rows × 28 columns</p>\n",
       "</div>"
      ],
      "text/plain": [
       "   hotel_id locale   city  country abc_category  stars rating  direct_cost  \\\n",
       "0      8967     DE  Gotha  Germany           C2      4   8153          144   \n",
       "1      8967     DE  Gotha  Germany           C2      4   8153          385   \n",
       "2      8967     DE  Gotha  Germany           C2      4   8153          532   \n",
       "3      8967     DE  Gotha  Germany           C2      4   8153          576   \n",
       "4      8967     DE  Gotha  Germany           C2      4   8153          222   \n",
       "\n",
       "   other_cost  direct_clicks  ...        cpa  direct_clicks_per_campaign  \\\n",
       "0          74              2  ...  18.544325                         278   \n",
       "1           0              5  ...  18.544325                         278   \n",
       "2           0              7  ...  18.544325                         278   \n",
       "3           0              8  ...  18.544325                         278   \n",
       "4          72              3  ...  18.544325                         278   \n",
       "\n",
       "       bvpc        cpc  campaign_id first_conv_date  first_conv_click  \\\n",
       "0  4.341727  80.514388      8967_DE      2019-01-14               111   \n",
       "1  4.341727  80.514388      8967_DE      2019-01-14               111   \n",
       "2  4.341727  80.514388      8967_DE      2019-01-14               111   \n",
       "3  4.341727  80.514388      8967_DE      2019-01-14               111   \n",
       "4  4.341727  80.514388      8967_DE      2019-01-14               111   \n",
       "\n",
       "   campaign_start  campaign_end  days_till_convert  \n",
       "0      2019-01-01    2019-03-31            13 days  \n",
       "1      2019-01-01    2019-03-31            13 days  \n",
       "2      2019-01-01    2019-03-31            13 days  \n",
       "3      2019-01-01    2019-03-31            13 days  \n",
       "4      2019-01-01    2019-03-31            13 days  \n",
       "\n",
       "[5 rows x 28 columns]"
      ]
     },
     "execution_count": 33,
     "metadata": {},
     "output_type": "execute_result"
    }
   ],
   "source": [
    "df1.head()"
   ]
  },
  {
   "cell_type": "code",
   "execution_count": 34,
   "metadata": {},
   "outputs": [],
   "source": [
    "for i in ['campaign_start','campaign_end','first_conv_date']:\n",
    "  df1[i] = df1[i].apply(lambda x: pd.to_datetime(str(x), format='%Y-%m-%d'))\n",
    "  df1[i] = df1[i].apply(lambda x: x.date())"
   ]
  },
  {
   "cell_type": "code",
   "execution_count": 35,
   "metadata": {},
   "outputs": [],
   "source": [
    "df1['days_till_convert'] = df1['days_till_convert'].apply(lambda x: str(x))\n",
    "\n",
    "df1['days_till_convert'] = df1['days_till_convert'].apply(lambda x: int(x[:2]) if x[1] != ' ' else int(x[:1]))"
   ]
  },
  {
   "cell_type": "code",
   "execution_count": 36,
   "metadata": {},
   "outputs": [],
   "source": [
    "df1['campaign_duration'] = df1.apply(lambda x: str(x['campaign_end'] - x['campaign_start']),axis=1)\n",
    "df1['campaign_duration'] = df1['campaign_duration'].apply(lambda x: int(x[:2]) if x[1] != ' ' else int(x[:1]))"
   ]
  },
  {
   "cell_type": "code",
   "execution_count": 37,
   "metadata": {},
   "outputs": [
    {
     "data": {
      "text/html": [
       "<div>\n",
       "<style scoped>\n",
       "    .dataframe tbody tr th:only-of-type {\n",
       "        vertical-align: middle;\n",
       "    }\n",
       "\n",
       "    .dataframe tbody tr th {\n",
       "        vertical-align: top;\n",
       "    }\n",
       "\n",
       "    .dataframe thead th {\n",
       "        text-align: right;\n",
       "    }\n",
       "</style>\n",
       "<table border=\"1\" class=\"dataframe\">\n",
       "  <thead>\n",
       "    <tr style=\"text-align: right;\">\n",
       "      <th></th>\n",
       "      <th>hotel_id</th>\n",
       "      <th>locale</th>\n",
       "      <th>city</th>\n",
       "      <th>country</th>\n",
       "      <th>abc_category</th>\n",
       "      <th>stars</th>\n",
       "      <th>rating</th>\n",
       "      <th>direct_cost</th>\n",
       "      <th>other_cost</th>\n",
       "      <th>direct_clicks</th>\n",
       "      <th>...</th>\n",
       "      <th>direct_clicks_per_campaign</th>\n",
       "      <th>bvpc</th>\n",
       "      <th>cpc</th>\n",
       "      <th>campaign_id</th>\n",
       "      <th>first_conv_date</th>\n",
       "      <th>first_conv_click</th>\n",
       "      <th>campaign_start</th>\n",
       "      <th>campaign_end</th>\n",
       "      <th>days_till_convert</th>\n",
       "      <th>campaign_duration</th>\n",
       "    </tr>\n",
       "  </thead>\n",
       "  <tbody>\n",
       "    <tr>\n",
       "      <th>0</th>\n",
       "      <td>8967</td>\n",
       "      <td>DE</td>\n",
       "      <td>Gotha</td>\n",
       "      <td>Germany</td>\n",
       "      <td>C2</td>\n",
       "      <td>4</td>\n",
       "      <td>8153</td>\n",
       "      <td>144</td>\n",
       "      <td>74</td>\n",
       "      <td>2</td>\n",
       "      <td>...</td>\n",
       "      <td>278</td>\n",
       "      <td>4.341727</td>\n",
       "      <td>80.514388</td>\n",
       "      <td>8967_DE</td>\n",
       "      <td>2019-01-14</td>\n",
       "      <td>111</td>\n",
       "      <td>2019-01-01</td>\n",
       "      <td>2019-03-31</td>\n",
       "      <td>13</td>\n",
       "      <td>89</td>\n",
       "    </tr>\n",
       "    <tr>\n",
       "      <th>1</th>\n",
       "      <td>8967</td>\n",
       "      <td>DE</td>\n",
       "      <td>Gotha</td>\n",
       "      <td>Germany</td>\n",
       "      <td>C2</td>\n",
       "      <td>4</td>\n",
       "      <td>8153</td>\n",
       "      <td>385</td>\n",
       "      <td>0</td>\n",
       "      <td>5</td>\n",
       "      <td>...</td>\n",
       "      <td>278</td>\n",
       "      <td>4.341727</td>\n",
       "      <td>80.514388</td>\n",
       "      <td>8967_DE</td>\n",
       "      <td>2019-01-14</td>\n",
       "      <td>111</td>\n",
       "      <td>2019-01-01</td>\n",
       "      <td>2019-03-31</td>\n",
       "      <td>13</td>\n",
       "      <td>89</td>\n",
       "    </tr>\n",
       "    <tr>\n",
       "      <th>2</th>\n",
       "      <td>8967</td>\n",
       "      <td>DE</td>\n",
       "      <td>Gotha</td>\n",
       "      <td>Germany</td>\n",
       "      <td>C2</td>\n",
       "      <td>4</td>\n",
       "      <td>8153</td>\n",
       "      <td>532</td>\n",
       "      <td>0</td>\n",
       "      <td>7</td>\n",
       "      <td>...</td>\n",
       "      <td>278</td>\n",
       "      <td>4.341727</td>\n",
       "      <td>80.514388</td>\n",
       "      <td>8967_DE</td>\n",
       "      <td>2019-01-14</td>\n",
       "      <td>111</td>\n",
       "      <td>2019-01-01</td>\n",
       "      <td>2019-03-31</td>\n",
       "      <td>13</td>\n",
       "      <td>89</td>\n",
       "    </tr>\n",
       "    <tr>\n",
       "      <th>3</th>\n",
       "      <td>8967</td>\n",
       "      <td>DE</td>\n",
       "      <td>Gotha</td>\n",
       "      <td>Germany</td>\n",
       "      <td>C2</td>\n",
       "      <td>4</td>\n",
       "      <td>8153</td>\n",
       "      <td>576</td>\n",
       "      <td>0</td>\n",
       "      <td>8</td>\n",
       "      <td>...</td>\n",
       "      <td>278</td>\n",
       "      <td>4.341727</td>\n",
       "      <td>80.514388</td>\n",
       "      <td>8967_DE</td>\n",
       "      <td>2019-01-14</td>\n",
       "      <td>111</td>\n",
       "      <td>2019-01-01</td>\n",
       "      <td>2019-03-31</td>\n",
       "      <td>13</td>\n",
       "      <td>89</td>\n",
       "    </tr>\n",
       "    <tr>\n",
       "      <th>4</th>\n",
       "      <td>8967</td>\n",
       "      <td>DE</td>\n",
       "      <td>Gotha</td>\n",
       "      <td>Germany</td>\n",
       "      <td>C2</td>\n",
       "      <td>4</td>\n",
       "      <td>8153</td>\n",
       "      <td>222</td>\n",
       "      <td>72</td>\n",
       "      <td>3</td>\n",
       "      <td>...</td>\n",
       "      <td>278</td>\n",
       "      <td>4.341727</td>\n",
       "      <td>80.514388</td>\n",
       "      <td>8967_DE</td>\n",
       "      <td>2019-01-14</td>\n",
       "      <td>111</td>\n",
       "      <td>2019-01-01</td>\n",
       "      <td>2019-03-31</td>\n",
       "      <td>13</td>\n",
       "      <td>89</td>\n",
       "    </tr>\n",
       "  </tbody>\n",
       "</table>\n",
       "<p>5 rows × 29 columns</p>\n",
       "</div>"
      ],
      "text/plain": [
       "   hotel_id locale   city  country abc_category  stars rating  direct_cost  \\\n",
       "0      8967     DE  Gotha  Germany           C2      4   8153          144   \n",
       "1      8967     DE  Gotha  Germany           C2      4   8153          385   \n",
       "2      8967     DE  Gotha  Germany           C2      4   8153          532   \n",
       "3      8967     DE  Gotha  Germany           C2      4   8153          576   \n",
       "4      8967     DE  Gotha  Germany           C2      4   8153          222   \n",
       "\n",
       "   other_cost  direct_clicks  ...  direct_clicks_per_campaign      bvpc  \\\n",
       "0          74              2  ...                         278  4.341727   \n",
       "1           0              5  ...                         278  4.341727   \n",
       "2           0              7  ...                         278  4.341727   \n",
       "3           0              8  ...                         278  4.341727   \n",
       "4          72              3  ...                         278  4.341727   \n",
       "\n",
       "         cpc  campaign_id  first_conv_date first_conv_click  campaign_start  \\\n",
       "0  80.514388      8967_DE       2019-01-14              111      2019-01-01   \n",
       "1  80.514388      8967_DE       2019-01-14              111      2019-01-01   \n",
       "2  80.514388      8967_DE       2019-01-14              111      2019-01-01   \n",
       "3  80.514388      8967_DE       2019-01-14              111      2019-01-01   \n",
       "4  80.514388      8967_DE       2019-01-14              111      2019-01-01   \n",
       "\n",
       "   campaign_end  days_till_convert  campaign_duration  \n",
       "0    2019-03-31                 13                 89  \n",
       "1    2019-03-31                 13                 89  \n",
       "2    2019-03-31                 13                 89  \n",
       "3    2019-03-31                 13                 89  \n",
       "4    2019-03-31                 13                 89  \n",
       "\n",
       "[5 rows x 29 columns]"
      ]
     },
     "execution_count": 37,
     "metadata": {},
     "output_type": "execute_result"
    }
   ],
   "source": [
    "df1.head()"
   ]
  },
  {
   "cell_type": "code",
   "execution_count": 40,
   "metadata": {},
   "outputs": [],
   "source": [
    "# Sum other_costs column\n",
    "other_click_per_campaign = (df1.groupby(['campaign_id']).other_clicks.sum().reset_index()\n",
    "                                       .rename(columns={'other_clicks':'other_click_per_campaign'}))\n",
    "\n",
    "\n",
    "df1 = df1.merge(other_click_per_campaign)\n",
    "\n",
    "del other_click_per_campaign"
   ]
  },
  {
   "cell_type": "code",
   "execution_count": 41,
   "metadata": {},
   "outputs": [],
   "source": [
    "# Sum other_bookings column\n",
    "other_bookings_per_campaign = (df1.groupby(['campaign_id']).other_bookings.sum().reset_index()\n",
    "                                       .rename(columns={'other_bookings':'other_bookings_per_campaign'}))\n",
    "\n",
    "\n",
    "df1 = df1.merge(other_bookings_per_campaign)\n",
    "\n",
    "del other_bookings_per_campaign"
   ]
  },
  {
   "cell_type": "code",
   "execution_count": 42,
   "metadata": {},
   "outputs": [],
   "source": [
    "# Sum other_bookings column\n",
    "other_booking_value_per_campaign = (df1.groupby(['campaign_id']).other_booking_value.sum().reset_index()\n",
    "                                       .rename(columns={'other_booking_value':'other_booking_value_per_campaign'}))\n",
    "\n",
    "\n",
    "df1 = df1.merge(other_booking_value_per_campaign)\n",
    "\n",
    "del other_booking_value_per_campaign"
   ]
  },
  {
   "cell_type": "markdown",
   "metadata": {},
   "source": [
    "# 3 - EDA - Exploratory Data Analysis\n",
    "\n",
    "**Why I took so long to start visualizing the data set?**\n",
    "\n",
    "I usually like to perform basic cleaning and transformations on the dataset, so I have more data to plot and analyze during EDA phase."
   ]
  },
  {
   "cell_type": "code",
   "execution_count": 43,
   "metadata": {},
   "outputs": [
    {
     "data": {
      "text/plain": [
       "Index(['hotel_id', 'stars', 'direct_cost', 'other_cost', 'direct_clicks',\n",
       "       'other_clicks', 'direct_bookings', 'other_bookings',\n",
       "       'direct_booking_value', 'other_booking_value', 'date',\n",
       "       'direct_cost_per_campaign', 'direct_booking_value_per_campaign', 'cpa',\n",
       "       'direct_clicks_per_campaign', 'bvpc', 'cpc', 'first_conv_click',\n",
       "       'days_till_convert', 'campaign_duration', 'other_click_per_campaign',\n",
       "       'other_bookings_per_campaign', 'other_booking_value_per_campaign'],\n",
       "      dtype='object')"
      ]
     },
     "execution_count": 43,
     "metadata": {},
     "output_type": "execute_result"
    }
   ],
   "source": [
    "train_num = df1.select_dtypes(exclude=['object']).columns\n",
    "train_num"
   ]
  },
  {
   "cell_type": "code",
   "execution_count": 44,
   "metadata": {},
   "outputs": [
    {
     "data": {
      "text/html": [
       "<div>\n",
       "<style scoped>\n",
       "    .dataframe tbody tr th:only-of-type {\n",
       "        vertical-align: middle;\n",
       "    }\n",
       "\n",
       "    .dataframe tbody tr th {\n",
       "        vertical-align: top;\n",
       "    }\n",
       "\n",
       "    .dataframe thead th {\n",
       "        text-align: right;\n",
       "    }\n",
       "</style>\n",
       "<table border=\"1\" class=\"dataframe\">\n",
       "  <thead>\n",
       "    <tr style=\"text-align: right;\">\n",
       "      <th></th>\n",
       "      <th>bvpc</th>\n",
       "    </tr>\n",
       "  </thead>\n",
       "  <tbody>\n",
       "    <tr>\n",
       "      <th>bvpc</th>\n",
       "      <td>1.000000</td>\n",
       "    </tr>\n",
       "    <tr>\n",
       "      <th>cpc</th>\n",
       "      <td>0.580608</td>\n",
       "    </tr>\n",
       "    <tr>\n",
       "      <th>direct_booking_value_per_campaign</th>\n",
       "      <td>0.263132</td>\n",
       "    </tr>\n",
       "    <tr>\n",
       "      <th>direct_booking_value</th>\n",
       "      <td>0.071584</td>\n",
       "    </tr>\n",
       "    <tr>\n",
       "      <th>other_booking_value_per_campaign</th>\n",
       "      <td>0.039258</td>\n",
       "    </tr>\n",
       "    <tr>\n",
       "      <th>direct_bookings</th>\n",
       "      <td>0.036956</td>\n",
       "    </tr>\n",
       "    <tr>\n",
       "      <th>stars</th>\n",
       "      <td>0.014315</td>\n",
       "    </tr>\n",
       "    <tr>\n",
       "      <th>other_booking_value</th>\n",
       "      <td>0.010057</td>\n",
       "    </tr>\n",
       "    <tr>\n",
       "      <th>other_cost</th>\n",
       "      <td>0.005678</td>\n",
       "    </tr>\n",
       "    <tr>\n",
       "      <th>direct_cost_per_campaign</th>\n",
       "      <td>0.003810</td>\n",
       "    </tr>\n",
       "    <tr>\n",
       "      <th>direct_cost</th>\n",
       "      <td>0.001906</td>\n",
       "    </tr>\n",
       "    <tr>\n",
       "      <th>campaign_duration</th>\n",
       "      <td>-0.007820</td>\n",
       "    </tr>\n",
       "    <tr>\n",
       "      <th>other_bookings</th>\n",
       "      <td>-0.012605</td>\n",
       "    </tr>\n",
       "    <tr>\n",
       "      <th>other_bookings_per_campaign</th>\n",
       "      <td>-0.031507</td>\n",
       "    </tr>\n",
       "    <tr>\n",
       "      <th>other_clicks</th>\n",
       "      <td>-0.063923</td>\n",
       "    </tr>\n",
       "    <tr>\n",
       "      <th>direct_clicks</th>\n",
       "      <td>-0.072373</td>\n",
       "    </tr>\n",
       "    <tr>\n",
       "      <th>other_click_per_campaign</th>\n",
       "      <td>-0.092089</td>\n",
       "    </tr>\n",
       "    <tr>\n",
       "      <th>direct_clicks_per_campaign</th>\n",
       "      <td>-0.112271</td>\n",
       "    </tr>\n",
       "    <tr>\n",
       "      <th>days_till_convert</th>\n",
       "      <td>-0.141967</td>\n",
       "    </tr>\n",
       "    <tr>\n",
       "      <th>first_conv_click</th>\n",
       "      <td>-0.248786</td>\n",
       "    </tr>\n",
       "    <tr>\n",
       "      <th>cpa</th>\n",
       "      <td>-0.383187</td>\n",
       "    </tr>\n",
       "  </tbody>\n",
       "</table>\n",
       "</div>"
      ],
      "text/plain": [
       "                                       bvpc\n",
       "bvpc                               1.000000\n",
       "cpc                                0.580608\n",
       "direct_booking_value_per_campaign  0.263132\n",
       "direct_booking_value               0.071584\n",
       "other_booking_value_per_campaign   0.039258\n",
       "direct_bookings                    0.036956\n",
       "stars                              0.014315\n",
       "other_booking_value                0.010057\n",
       "other_cost                         0.005678\n",
       "direct_cost_per_campaign           0.003810\n",
       "direct_cost                        0.001906\n",
       "campaign_duration                 -0.007820\n",
       "other_bookings                    -0.012605\n",
       "other_bookings_per_campaign       -0.031507\n",
       "other_clicks                      -0.063923\n",
       "direct_clicks                     -0.072373\n",
       "other_click_per_campaign          -0.092089\n",
       "direct_clicks_per_campaign        -0.112271\n",
       "days_till_convert                 -0.141967\n",
       "first_conv_click                  -0.248786\n",
       "cpa                               -0.383187"
      ]
     },
     "execution_count": 44,
     "metadata": {},
     "output_type": "execute_result"
    }
   ],
   "source": [
    "# I will exclude cpc_exp cause this field was calculated using bvpc column\n",
    "train_num_corr = df1[train_num].drop(['hotel_id'], axis=1)\n",
    "corr = pd.DataFrame(train_num_corr.corr(method = 'pearson')['bvpc'])\n",
    "corr.sort_values(['bvpc'], ascending= False)"
   ]
  },
  {
   "cell_type": "markdown",
   "metadata": {},
   "source": [
    "**Plot distribution of Direct Cost per Campaign for each locale**"
   ]
  },
  {
   "cell_type": "code",
   "execution_count": 45,
   "metadata": {},
   "outputs": [
    {
     "data": {
      "image/png": "[encoded data removed]",
      "text/plain": [
       "<Figure size 432x288 with 1 Axes>"
      ]
     },
     "metadata": {
      "needs_background": "light"
     },
     "output_type": "display_data"
    }
   ],
   "source": [
    "col_order = df1.groupby(['locale'])['direct_cost_per_campaign'].aggregate(np.median).reset_index().sort_values('direct_cost_per_campaign')\n",
    "p = sns.boxplot(x = 'locale', y = 'direct_cost_per_campaign', palette = 'Set2', data = df1, order=col_order['locale'], linewidth = 1.5)\n",
    "plt.setp(p.get_xticklabels(), rotation=45);"
   ]
  },
  {
   "cell_type": "markdown",
   "metadata": {},
   "source": [
    "There are outliers on the dataset, so I will drop direct_cost_per_campaign outliers"
   ]
  },
  {
   "cell_type": "code",
   "execution_count": 46,
   "metadata": {},
   "outputs": [
    {
     "data": {
      "text/plain": [
       "count    109967.000000\n",
       "mean      43664.434412\n",
       "std       60922.155534\n",
       "min        1223.000000\n",
       "25%       13334.000000\n",
       "50%       26530.000000\n",
       "75%       49664.000000\n",
       "max      796288.000000\n",
       "Name: direct_cost_per_campaign, dtype: float64"
      ]
     },
     "execution_count": 46,
     "metadata": {},
     "output_type": "execute_result"
    }
   ],
   "source": [
    "df1['direct_cost_per_campaign'].describe()"
   ]
  },
  {
   "cell_type": "code",
   "execution_count": 47,
   "metadata": {},
   "outputs": [],
   "source": [
    "# eliminate outliers\n",
    "quantile = df1['direct_cost_per_campaign'].quantile(0.99)\n",
    "\n",
    "df1 = df1[df1['direct_cost_per_campaign'] < quantile]"
   ]
  },
  {
   "cell_type": "markdown",
   "metadata": {},
   "source": [
    "Plot the data again, without outliers now"
   ]
  },
  {
   "cell_type": "code",
   "execution_count": 48,
   "metadata": {},
   "outputs": [
    {
     "data": {
      "image/png": "[encoded data removed]",
      "text/plain": [
       "<Figure size 432x288 with 1 Axes>"
      ]
     },
     "metadata": {
      "needs_background": "light"
     },
     "output_type": "display_data"
    }
   ],
   "source": [
    "col_order = df1.groupby(['locale'])['direct_cost_per_campaign'].aggregate(np.median).reset_index().sort_values('direct_cost_per_campaign')\n",
    "p = sns.boxplot(x = 'locale', y = 'direct_cost_per_campaign', palette = 'Set2', data = df1, order=col_order['locale'], linewidth = 1.5)\n",
    "plt.setp(p.get_xticklabels(), rotation=45);"
   ]
  },
  {
   "cell_type": "markdown",
   "metadata": {},
   "source": [
    "**Plot distribution of CPA for each locale**"
   ]
  },
  {
   "cell_type": "code",
   "execution_count": 49,
   "metadata": {},
   "outputs": [
    {
     "data": {
      "text/plain": [
       "count    108797.000000\n",
       "mean         66.935462\n",
       "std         102.834390\n",
       "min          15.000468\n",
       "25%          23.024110\n",
       "50%          37.850601\n",
       "75%          66.877551\n",
       "max        1073.093458\n",
       "Name: cpa, dtype: float64"
      ]
     },
     "execution_count": 49,
     "metadata": {},
     "output_type": "execute_result"
    }
   ],
   "source": [
    "df1['cpa'].describe()"
   ]
  },
  {
   "cell_type": "code",
   "execution_count": 50,
   "metadata": {},
   "outputs": [
    {
     "data": {
      "image/png": "[encoded data removed]",
      "text/plain": [
       "<Figure size 432x288 with 1 Axes>"
      ]
     },
     "metadata": {
      "needs_background": "light"
     },
     "output_type": "display_data"
    }
   ],
   "source": [
    "col_order = df1.groupby(['locale'])['cpa'].aggregate(np.median).reset_index().sort_values('cpa')\n",
    "p = sns.boxplot(x = 'locale', y = 'cpa', palette = 'Set2', data = df1, order=col_order['locale'], linewidth = 1.5)\n",
    "plt.setp(p.get_xticklabels(), rotation=45);"
   ]
  },
  {
   "cell_type": "code",
   "execution_count": 51,
   "metadata": {},
   "outputs": [
    {
     "data": {
      "image/png": "[encoded data removed]",
      "text/plain": [
       "<Figure size 432x288 with 1 Axes>"
      ]
     },
     "metadata": {
      "needs_background": "light"
     },
     "output_type": "display_data"
    }
   ],
   "source": [
    "# eliminate outliers\n",
    "quantile = df1['cpa'].quantile(0.99)\n",
    "\n",
    "df1 = df1[df1['cpa'] < quantile]\n",
    "\n",
    "col_order = df1.groupby(['locale'])['cpa'].aggregate(np.median).reset_index().sort_values('cpa')\n",
    "p = sns.boxplot(x = 'locale', y = 'cpa', palette = 'Set2', data = df1, order=col_order['locale'], linewidth = 1.5)\n",
    "plt.setp(p.get_xticklabels(), rotation=45);"
   ]
  },
  {
   "cell_type": "markdown",
   "metadata": {},
   "source": [
    "## Important Note\n",
    "\n",
    "I am droping outliers for simplicity, due to the time constraint.\n",
    "\n",
    "I aknolewdge that this is not the best option, since the dataset is get smaller everytime, and if I have time, I will come back and try apply transformations on outliers."
   ]
  },
  {
   "cell_type": "markdown",
   "metadata": {},
   "source": [
    "**plot BVPC distribution according to how many stars the hoteliers has**"
   ]
  },
  {
   "cell_type": "code",
   "execution_count": 54,
   "metadata": {},
   "outputs": [
    {
     "data": {
      "image/png": "[encoded data removed]",
      "text/plain": [
       "<Figure size 432x288 with 1 Axes>"
      ]
     },
     "metadata": {
      "needs_background": "light"
     },
     "output_type": "display_data"
    }
   ],
   "source": [
    "order_x = [x for x in range(0,6)]\n",
    "\n",
    "col_order = df1.groupby(['stars'])['bvpc'].aggregate(np.median).reset_index().sort_values('bvpc')\n",
    "p = sns.boxplot(x = 'stars', y = 'bvpc', palette = 'Set2', data = df1, linewidth = 1.5, order=order_x)\n",
    "plt.setp(p.get_xticklabels(), rotation=45);"
   ]
  },
  {
   "cell_type": "markdown",
   "metadata": {},
   "source": [
    "**plot direct_cost distribution according to how many stars by campaign**"
   ]
  },
  {
   "cell_type": "code",
   "execution_count": 56,
   "metadata": {},
   "outputs": [
    {
     "data": {
      "image/png": "[encoded data removed]",
      "text/plain": [
       "<Figure size 432x288 with 1 Axes>"
      ]
     },
     "metadata": {
      "needs_background": "light"
     },
     "output_type": "display_data"
    }
   ],
   "source": [
    "col_order = df1.groupby(['stars'])['direct_cost_per_campaign'].aggregate(np.median).reset_index().sort_values('direct_cost_per_campaign')\n",
    "p = sns.boxplot(x = 'stars', y = 'direct_cost_per_campaign', palette = 'Set2', data = df1, linewidth = 1.5, order=order_x)\n",
    "plt.setp(p.get_xticklabels(), rotation=45);"
   ]
  },
  {
   "cell_type": "markdown",
   "metadata": {},
   "source": [
    "**Plot the direct_cost_per_campaign given the category of the hotel**"
   ]
  },
  {
   "cell_type": "code",
   "execution_count": 57,
   "metadata": {},
   "outputs": [
    {
     "data": {
      "image/png": "[encoded data removed]",
      "text/plain": [
       "<Figure size 432x288 with 1 Axes>"
      ]
     },
     "metadata": {
      "needs_background": "light"
     },
     "output_type": "display_data"
    }
   ],
   "source": [
    "col_order = df1.groupby(['abc_category'])['direct_cost_per_campaign'].aggregate(np.median).reset_index().sort_values('direct_cost_per_campaign')\n",
    "p = sns.boxplot(x = 'abc_category', y = 'direct_cost_per_campaign', palette = 'Set2', data = df1, linewidth = 1.5, order=col_order['abc_category'])\n",
    "plt.setp(p.get_xticklabels(), rotation=45);"
   ]
  },
  {
   "cell_type": "markdown",
   "metadata": {},
   "source": [
    "**Plot the bvpc given the category of the hotel**"
   ]
  },
  {
   "cell_type": "code",
   "execution_count": 58,
   "metadata": {},
   "outputs": [
    {
     "data": {
      "image/png": "[encoded data removed]",
      "text/plain": [
       "<Figure size 432x288 with 1 Axes>"
      ]
     },
     "metadata": {
      "needs_background": "light"
     },
     "output_type": "display_data"
    }
   ],
   "source": [
    "col_order = df1.groupby(['abc_category'])['bvpc'].aggregate(np.median).reset_index().sort_values('bvpc')\n",
    "p = sns.boxplot(x = 'abc_category', y = 'bvpc', palette = 'Set2', data = df1, linewidth = 1.5, order=col_order['abc_category'])\n",
    "plt.setp(p.get_xticklabels(), rotation=45);"
   ]
  },
  {
   "cell_type": "code",
   "execution_count": 59,
   "metadata": {},
   "outputs": [
    {
     "data": {
      "text/plain": [
       "<matplotlib.legend.Legend at 0x7f8ae2dd6eb8>"
      ]
     },
     "execution_count": 59,
     "metadata": {},
     "output_type": "execute_result"
    },
    {
     "data": {
      "image/png": "[encoded data removed]",
      "text/plain": [
       "<Figure size 360x360 with 1 Axes>"
      ]
     },
     "metadata": {
      "needs_background": "light"
     },
     "output_type": "display_data"
    }
   ],
   "source": [
    "sns.lmplot( x='bvpc', y='direct_cost_per_campaign', data=df1, fit_reg=False, hue='abc_category', legend=False)\n",
    "plt.legend(loc='upper right')\n"
   ]
  },
  {
   "cell_type": "code",
   "execution_count": 60,
   "metadata": {},
   "outputs": [
    {
     "data": {
      "text/plain": [
       "<matplotlib.legend.Legend at 0x7f8ac969b588>"
      ]
     },
     "execution_count": 60,
     "metadata": {},
     "output_type": "execute_result"
    },
    {
     "data": {
      "image/png": "[encoded data removed]",
      "text/plain": [
       "<Figure size 360x360 with 1 Axes>"
      ]
     },
     "metadata": {
      "needs_background": "light"
     },
     "output_type": "display_data"
    }
   ],
   "source": [
    "sns.lmplot( x='cpa', y='direct_cost_per_campaign', data=df1, fit_reg=False, hue='abc_category', legend=False)\n",
    "plt.legend(loc='upper right')\n"
   ]
  },
  {
   "cell_type": "code",
   "execution_count": 61,
   "metadata": {},
   "outputs": [
    {
     "data": {
      "text/plain": [
       "<matplotlib.legend.Legend at 0x7f8ad18fa898>"
      ]
     },
     "execution_count": 61,
     "metadata": {},
     "output_type": "execute_result"
    },
    {
     "data": {
      "image/png": "[encoded data removed]",
      "text/plain": [
       "<Figure size 360x360 with 1 Axes>"
      ]
     },
     "metadata": {
      "needs_background": "light"
     },
     "output_type": "display_data"
    }
   ],
   "source": [
    "sns.lmplot( x='cpa', y='bvpc', data=df1, fit_reg=False, hue='abc_category', legend=False)\n",
    "plt.legend(loc='upper right')"
   ]
  },
  {
   "cell_type": "code",
   "execution_count": 210,
   "metadata": {},
   "outputs": [
    {
     "data": {
      "text/html": [
       "<div>\n",
       "<style scoped>\n",
       "    .dataframe tbody tr th:only-of-type {\n",
       "        vertical-align: middle;\n",
       "    }\n",
       "\n",
       "    .dataframe tbody tr th {\n",
       "        vertical-align: top;\n",
       "    }\n",
       "\n",
       "    .dataframe thead th {\n",
       "        text-align: right;\n",
       "    }\n",
       "</style>\n",
       "<table border=\"1\" class=\"dataframe\">\n",
       "  <thead>\n",
       "    <tr style=\"text-align: right;\">\n",
       "      <th></th>\n",
       "      <th>hotel_id</th>\n",
       "      <th>locale</th>\n",
       "      <th>city</th>\n",
       "      <th>country</th>\n",
       "      <th>abc_category</th>\n",
       "      <th>stars</th>\n",
       "      <th>rating</th>\n",
       "      <th>direct_cost</th>\n",
       "      <th>other_cost</th>\n",
       "      <th>direct_clicks</th>\n",
       "      <th>...</th>\n",
       "      <th>campaign_id</th>\n",
       "      <th>first_conv_date</th>\n",
       "      <th>first_conv_click</th>\n",
       "      <th>campaign_start</th>\n",
       "      <th>campaign_end</th>\n",
       "      <th>days_till_convert</th>\n",
       "      <th>campaign_duration</th>\n",
       "      <th>other_click_per_campaign</th>\n",
       "      <th>other_bookings_per_campaign</th>\n",
       "      <th>other_booking_value_per_campaign</th>\n",
       "    </tr>\n",
       "  </thead>\n",
       "  <tbody>\n",
       "    <tr>\n",
       "      <th>0</th>\n",
       "      <td>8967</td>\n",
       "      <td>DE</td>\n",
       "      <td>Gotha</td>\n",
       "      <td>Germany</td>\n",
       "      <td>C2</td>\n",
       "      <td>4</td>\n",
       "      <td>8153</td>\n",
       "      <td>144</td>\n",
       "      <td>74</td>\n",
       "      <td>2</td>\n",
       "      <td>...</td>\n",
       "      <td>8967_DE</td>\n",
       "      <td>2019-01-14</td>\n",
       "      <td>111</td>\n",
       "      <td>2019-01-01</td>\n",
       "      <td>2019-03-31</td>\n",
       "      <td>13</td>\n",
       "      <td>89</td>\n",
       "      <td>54</td>\n",
       "      <td>1</td>\n",
       "      <td>171.9</td>\n",
       "    </tr>\n",
       "    <tr>\n",
       "      <th>1</th>\n",
       "      <td>8967</td>\n",
       "      <td>DE</td>\n",
       "      <td>Gotha</td>\n",
       "      <td>Germany</td>\n",
       "      <td>C2</td>\n",
       "      <td>4</td>\n",
       "      <td>8153</td>\n",
       "      <td>385</td>\n",
       "      <td>0</td>\n",
       "      <td>5</td>\n",
       "      <td>...</td>\n",
       "      <td>8967_DE</td>\n",
       "      <td>2019-01-14</td>\n",
       "      <td>111</td>\n",
       "      <td>2019-01-01</td>\n",
       "      <td>2019-03-31</td>\n",
       "      <td>13</td>\n",
       "      <td>89</td>\n",
       "      <td>54</td>\n",
       "      <td>1</td>\n",
       "      <td>171.9</td>\n",
       "    </tr>\n",
       "    <tr>\n",
       "      <th>2</th>\n",
       "      <td>8967</td>\n",
       "      <td>DE</td>\n",
       "      <td>Gotha</td>\n",
       "      <td>Germany</td>\n",
       "      <td>C2</td>\n",
       "      <td>4</td>\n",
       "      <td>8153</td>\n",
       "      <td>532</td>\n",
       "      <td>0</td>\n",
       "      <td>7</td>\n",
       "      <td>...</td>\n",
       "      <td>8967_DE</td>\n",
       "      <td>2019-01-14</td>\n",
       "      <td>111</td>\n",
       "      <td>2019-01-01</td>\n",
       "      <td>2019-03-31</td>\n",
       "      <td>13</td>\n",
       "      <td>89</td>\n",
       "      <td>54</td>\n",
       "      <td>1</td>\n",
       "      <td>171.9</td>\n",
       "    </tr>\n",
       "    <tr>\n",
       "      <th>3</th>\n",
       "      <td>8967</td>\n",
       "      <td>DE</td>\n",
       "      <td>Gotha</td>\n",
       "      <td>Germany</td>\n",
       "      <td>C2</td>\n",
       "      <td>4</td>\n",
       "      <td>8153</td>\n",
       "      <td>576</td>\n",
       "      <td>0</td>\n",
       "      <td>8</td>\n",
       "      <td>...</td>\n",
       "      <td>8967_DE</td>\n",
       "      <td>2019-01-14</td>\n",
       "      <td>111</td>\n",
       "      <td>2019-01-01</td>\n",
       "      <td>2019-03-31</td>\n",
       "      <td>13</td>\n",
       "      <td>89</td>\n",
       "      <td>54</td>\n",
       "      <td>1</td>\n",
       "      <td>171.9</td>\n",
       "    </tr>\n",
       "    <tr>\n",
       "      <th>4</th>\n",
       "      <td>8967</td>\n",
       "      <td>DE</td>\n",
       "      <td>Gotha</td>\n",
       "      <td>Germany</td>\n",
       "      <td>C2</td>\n",
       "      <td>4</td>\n",
       "      <td>8153</td>\n",
       "      <td>222</td>\n",
       "      <td>72</td>\n",
       "      <td>3</td>\n",
       "      <td>...</td>\n",
       "      <td>8967_DE</td>\n",
       "      <td>2019-01-14</td>\n",
       "      <td>111</td>\n",
       "      <td>2019-01-01</td>\n",
       "      <td>2019-03-31</td>\n",
       "      <td>13</td>\n",
       "      <td>89</td>\n",
       "      <td>54</td>\n",
       "      <td>1</td>\n",
       "      <td>171.9</td>\n",
       "    </tr>\n",
       "  </tbody>\n",
       "</table>\n",
       "<p>5 rows × 32 columns</p>\n",
       "</div>"
      ],
      "text/plain": [
       "   hotel_id locale   city  country abc_category  stars rating  direct_cost  \\\n",
       "0      8967     DE  Gotha  Germany           C2      4   8153          144   \n",
       "1      8967     DE  Gotha  Germany           C2      4   8153          385   \n",
       "2      8967     DE  Gotha  Germany           C2      4   8153          532   \n",
       "3      8967     DE  Gotha  Germany           C2      4   8153          576   \n",
       "4      8967     DE  Gotha  Germany           C2      4   8153          222   \n",
       "\n",
       "   other_cost  direct_clicks  ...  campaign_id  first_conv_date  \\\n",
       "0          74              2  ...      8967_DE       2019-01-14   \n",
       "1           0              5  ...      8967_DE       2019-01-14   \n",
       "2           0              7  ...      8967_DE       2019-01-14   \n",
       "3           0              8  ...      8967_DE       2019-01-14   \n",
       "4          72              3  ...      8967_DE       2019-01-14   \n",
       "\n",
       "   first_conv_click  campaign_start  campaign_end days_till_convert  \\\n",
       "0               111      2019-01-01    2019-03-31                13   \n",
       "1               111      2019-01-01    2019-03-31                13   \n",
       "2               111      2019-01-01    2019-03-31                13   \n",
       "3               111      2019-01-01    2019-03-31                13   \n",
       "4               111      2019-01-01    2019-03-31                13   \n",
       "\n",
       "   campaign_duration  other_click_per_campaign  other_bookings_per_campaign  \\\n",
       "0                 89                        54                            1   \n",
       "1                 89                        54                            1   \n",
       "2                 89                        54                            1   \n",
       "3                 89                        54                            1   \n",
       "4                 89                        54                            1   \n",
       "\n",
       "   other_booking_value_per_campaign  \n",
       "0                             171.9  \n",
       "1                             171.9  \n",
       "2                             171.9  \n",
       "3                             171.9  \n",
       "4                             171.9  \n",
       "\n",
       "[5 rows x 32 columns]"
      ]
     },
     "execution_count": 210,
     "metadata": {},
     "output_type": "execute_result"
    }
   ],
   "source": [
    "df1.head()"
   ]
  },
  {
   "cell_type": "code",
   "execution_count": 211,
   "metadata": {},
   "outputs": [
    {
     "data": {
      "text/plain": [
       "Index(['hotel_id', 'locale', 'city', 'country', 'abc_category', 'stars',\n",
       "       'rating', 'direct_cost', 'other_cost', 'direct_clicks', 'other_clicks',\n",
       "       'direct_bookings', 'other_bookings', 'direct_booking_value',\n",
       "       'other_booking_value', 'date', 'direct_cost_per_campaign',\n",
       "       'direct_booking_value_per_campaign', 'cpa',\n",
       "       'direct_clicks_per_campaign', 'bvpc', 'cpc', 'campaign_id',\n",
       "       'first_conv_date', 'first_conv_click', 'campaign_start', 'campaign_end',\n",
       "       'days_till_convert', 'campaign_duration', 'other_click_per_campaign',\n",
       "       'other_bookings_per_campaign', 'other_booking_value_per_campaign'],\n",
       "      dtype='object')"
      ]
     },
     "execution_count": 211,
     "metadata": {},
     "output_type": "execute_result"
    }
   ],
   "source": [
    "df1.columns"
   ]
  },
  {
   "cell_type": "code",
   "execution_count": 212,
   "metadata": {},
   "outputs": [
    {
     "data": {
      "text/html": [
       "<div>\n",
       "<style scoped>\n",
       "    .dataframe tbody tr th:only-of-type {\n",
       "        vertical-align: middle;\n",
       "    }\n",
       "\n",
       "    .dataframe tbody tr th {\n",
       "        vertical-align: top;\n",
       "    }\n",
       "\n",
       "    .dataframe thead th {\n",
       "        text-align: right;\n",
       "    }\n",
       "</style>\n",
       "<table border=\"1\" class=\"dataframe\">\n",
       "  <thead>\n",
       "    <tr style=\"text-align: right;\">\n",
       "      <th></th>\n",
       "      <th>hotel_id</th>\n",
       "      <th>locale</th>\n",
       "      <th>city</th>\n",
       "      <th>country</th>\n",
       "      <th>abc_category</th>\n",
       "      <th>stars</th>\n",
       "      <th>rating</th>\n",
       "      <th>direct_cost</th>\n",
       "      <th>other_cost</th>\n",
       "      <th>direct_clicks</th>\n",
       "      <th>...</th>\n",
       "      <th>campaign_id</th>\n",
       "      <th>first_conv_date</th>\n",
       "      <th>first_conv_click</th>\n",
       "      <th>campaign_start</th>\n",
       "      <th>campaign_end</th>\n",
       "      <th>days_till_convert</th>\n",
       "      <th>campaign_duration</th>\n",
       "      <th>other_click_per_campaign</th>\n",
       "      <th>other_bookings_per_campaign</th>\n",
       "      <th>other_booking_value_per_campaign</th>\n",
       "    </tr>\n",
       "  </thead>\n",
       "  <tbody>\n",
       "    <tr>\n",
       "      <th>0</th>\n",
       "      <td>8967</td>\n",
       "      <td>DE</td>\n",
       "      <td>Gotha</td>\n",
       "      <td>Germany</td>\n",
       "      <td>C2</td>\n",
       "      <td>4</td>\n",
       "      <td>8153</td>\n",
       "      <td>144</td>\n",
       "      <td>74</td>\n",
       "      <td>2</td>\n",
       "      <td>...</td>\n",
       "      <td>8967_DE</td>\n",
       "      <td>2019-01-14</td>\n",
       "      <td>111</td>\n",
       "      <td>2019-01-01</td>\n",
       "      <td>2019-03-31</td>\n",
       "      <td>13</td>\n",
       "      <td>89</td>\n",
       "      <td>54</td>\n",
       "      <td>1</td>\n",
       "      <td>171.9</td>\n",
       "    </tr>\n",
       "    <tr>\n",
       "      <th>1</th>\n",
       "      <td>8967</td>\n",
       "      <td>DE</td>\n",
       "      <td>Gotha</td>\n",
       "      <td>Germany</td>\n",
       "      <td>C2</td>\n",
       "      <td>4</td>\n",
       "      <td>8153</td>\n",
       "      <td>385</td>\n",
       "      <td>0</td>\n",
       "      <td>5</td>\n",
       "      <td>...</td>\n",
       "      <td>8967_DE</td>\n",
       "      <td>2019-01-14</td>\n",
       "      <td>111</td>\n",
       "      <td>2019-01-01</td>\n",
       "      <td>2019-03-31</td>\n",
       "      <td>13</td>\n",
       "      <td>89</td>\n",
       "      <td>54</td>\n",
       "      <td>1</td>\n",
       "      <td>171.9</td>\n",
       "    </tr>\n",
       "    <tr>\n",
       "      <th>2</th>\n",
       "      <td>8967</td>\n",
       "      <td>DE</td>\n",
       "      <td>Gotha</td>\n",
       "      <td>Germany</td>\n",
       "      <td>C2</td>\n",
       "      <td>4</td>\n",
       "      <td>8153</td>\n",
       "      <td>532</td>\n",
       "      <td>0</td>\n",
       "      <td>7</td>\n",
       "      <td>...</td>\n",
       "      <td>8967_DE</td>\n",
       "      <td>2019-01-14</td>\n",
       "      <td>111</td>\n",
       "      <td>2019-01-01</td>\n",
       "      <td>2019-03-31</td>\n",
       "      <td>13</td>\n",
       "      <td>89</td>\n",
       "      <td>54</td>\n",
       "      <td>1</td>\n",
       "      <td>171.9</td>\n",
       "    </tr>\n",
       "    <tr>\n",
       "      <th>3</th>\n",
       "      <td>8967</td>\n",
       "      <td>DE</td>\n",
       "      <td>Gotha</td>\n",
       "      <td>Germany</td>\n",
       "      <td>C2</td>\n",
       "      <td>4</td>\n",
       "      <td>8153</td>\n",
       "      <td>576</td>\n",
       "      <td>0</td>\n",
       "      <td>8</td>\n",
       "      <td>...</td>\n",
       "      <td>8967_DE</td>\n",
       "      <td>2019-01-14</td>\n",
       "      <td>111</td>\n",
       "      <td>2019-01-01</td>\n",
       "      <td>2019-03-31</td>\n",
       "      <td>13</td>\n",
       "      <td>89</td>\n",
       "      <td>54</td>\n",
       "      <td>1</td>\n",
       "      <td>171.9</td>\n",
       "    </tr>\n",
       "    <tr>\n",
       "      <th>4</th>\n",
       "      <td>8967</td>\n",
       "      <td>DE</td>\n",
       "      <td>Gotha</td>\n",
       "      <td>Germany</td>\n",
       "      <td>C2</td>\n",
       "      <td>4</td>\n",
       "      <td>8153</td>\n",
       "      <td>222</td>\n",
       "      <td>72</td>\n",
       "      <td>3</td>\n",
       "      <td>...</td>\n",
       "      <td>8967_DE</td>\n",
       "      <td>2019-01-14</td>\n",
       "      <td>111</td>\n",
       "      <td>2019-01-01</td>\n",
       "      <td>2019-03-31</td>\n",
       "      <td>13</td>\n",
       "      <td>89</td>\n",
       "      <td>54</td>\n",
       "      <td>1</td>\n",
       "      <td>171.9</td>\n",
       "    </tr>\n",
       "  </tbody>\n",
       "</table>\n",
       "<p>5 rows × 32 columns</p>\n",
       "</div>"
      ],
      "text/plain": [
       "   hotel_id locale   city  country abc_category  stars rating  direct_cost  \\\n",
       "0      8967     DE  Gotha  Germany           C2      4   8153          144   \n",
       "1      8967     DE  Gotha  Germany           C2      4   8153          385   \n",
       "2      8967     DE  Gotha  Germany           C2      4   8153          532   \n",
       "3      8967     DE  Gotha  Germany           C2      4   8153          576   \n",
       "4      8967     DE  Gotha  Germany           C2      4   8153          222   \n",
       "\n",
       "   other_cost  direct_clicks  ...  campaign_id  first_conv_date  \\\n",
       "0          74              2  ...      8967_DE       2019-01-14   \n",
       "1           0              5  ...      8967_DE       2019-01-14   \n",
       "2           0              7  ...      8967_DE       2019-01-14   \n",
       "3           0              8  ...      8967_DE       2019-01-14   \n",
       "4          72              3  ...      8967_DE       2019-01-14   \n",
       "\n",
       "   first_conv_click  campaign_start  campaign_end days_till_convert  \\\n",
       "0               111      2019-01-01    2019-03-31                13   \n",
       "1               111      2019-01-01    2019-03-31                13   \n",
       "2               111      2019-01-01    2019-03-31                13   \n",
       "3               111      2019-01-01    2019-03-31                13   \n",
       "4               111      2019-01-01    2019-03-31                13   \n",
       "\n",
       "   campaign_duration  other_click_per_campaign  other_bookings_per_campaign  \\\n",
       "0                 89                        54                            1   \n",
       "1                 89                        54                            1   \n",
       "2                 89                        54                            1   \n",
       "3                 89                        54                            1   \n",
       "4                 89                        54                            1   \n",
       "\n",
       "   other_booking_value_per_campaign  \n",
       "0                             171.9  \n",
       "1                             171.9  \n",
       "2                             171.9  \n",
       "3                             171.9  \n",
       "4                             171.9  \n",
       "\n",
       "[5 rows x 32 columns]"
      ]
     },
     "execution_count": 212,
     "metadata": {},
     "output_type": "execute_result"
    }
   ],
   "source": [
    "df1.head()"
   ]
  },
  {
   "cell_type": "code",
   "execution_count": 213,
   "metadata": {},
   "outputs": [],
   "source": [
    "df3 = df1"
   ]
  },
  {
   "cell_type": "code",
   "execution_count": 214,
   "metadata": {},
   "outputs": [],
   "source": [
    "df1.to_csv('df1_final.csv')"
   ]
  }
 ],
 "metadata": {
  "kernelspec": {
   "display_name": "Python 3",
   "language": "python",
   "name": "python3"
  },
  "language_info": {
   "codemirror_mode": {
    "name": "ipython",
    "version": 3
   },
   "file_extension": ".py",
   "mimetype": "text/x-python",
   "name": "python",
   "nbconvert_exporter": "python",
   "pygments_lexer": "ipython3",
   "version": "3.5.3"
  }
 },
 "nbformat": 4,
 "nbformat_minor": 2
}
