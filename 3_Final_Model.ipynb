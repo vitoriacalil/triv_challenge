{
 "cells": [
  {
   "cell_type": "code",
   "execution_count": 1,
   "metadata": {},
   "outputs": [],
   "source": [
    "import pandas as pd\n",
    "import numpy as np\n",
    "import seaborn as sns\n",
    "import matplotlib.pyplot as plt\n",
    "from datetime import datetime\n",
    "\n",
    "\n",
    "from sklearn.model_selection import train_test_split\n",
    "from sklearn.linear_model import LinearRegression, Lasso, LassoCV, RidgeCV, Ridge\n",
    "from sklearn.pipeline import make_pipeline\n",
    "from sklearn.preprocessing import PolynomialFeatures\n",
    "from sklearn.model_selection import KFold, RepeatedKFold,GridSearchCV\n",
    "from sklearn.ensemble import RandomForestRegressor\n",
    "from sklearn.metrics import mean_absolute_error, mean_squared_error, r2_score\n",
    "\n",
    "import pickle\n",
    "from pprint import pprint"
   ]
  },
  {
   "cell_type": "code",
   "execution_count": 2,
   "metadata": {},
   "outputs": [],
   "source": [
    "# ignore FutureWarning messages in scikit-learn\n",
    "\n",
    "from warnings import simplefilter\n",
    "simplefilter(action='ignore', category=FutureWarning)"
   ]
  },
  {
   "cell_type": "markdown",
   "metadata": {},
   "source": [
    "# 1 - Defining the task\n",
    "\n",
    "After analyzing the results from the baseline model, I had to options in my mind:\n",
    "\n",
    "    1. Predict BVPC for each campaign, using results from the first 80% days of \n",
    "    campaigns, and predict on the last 20% of the days.\n",
    "    \n",
    "    2. Predict clicks and booking_value for each campaign, taking into consideration \n",
    "    only the information that we have before the campaign start.\n",
    "    \n",
    "I decided to follow the **second approach**, I will explain why.\n",
    "\n",
    "**Predict clicks and booking_values for each campaign** - Notice that we have 2 dependent variables.\n",
    "\n",
    "The baseline model tested how good is our prediction after some days of campaign running, although, assuming that we want Trivago Bidding algorithm start working as soon as the client sets its campaign, creating a model to predict clicks and booking value based on hotelier features seems a reason method, and it could complement the idea of the baseline model.\n",
    "\n",
    "\n",
    "## 1.1 - The math behind it\n",
    "\n",
    "Why am I predicting clicks and booking value if the task is to predict an ideal CPC bid?\n",
    "\n",
    "Well, if we predict clicks and booking value, we can calculate the BVPC, and having in mind that the we have a target CPA of at least 15%, after predicting the BVPC I can easily calculate CPC Bid = Predicted BVPC * 15%"
   ]
  },
  {
   "cell_type": "markdown",
   "metadata": {},
   "source": [
    "## 1.2 - Read data"
   ]
  },
  {
   "cell_type": "code",
   "execution_count": 3,
   "metadata": {},
   "outputs": [
    {
     "name": "stderr",
     "output_type": "stream",
     "text": [
      "/usr/local/lib/python3.5/dist-packages/IPython/core/interactiveshell.py:3049: DtypeWarning: Columns (7) have mixed types. Specify dtype option on import or set low_memory=False.\n",
      "  interactivity=interactivity, compiler=compiler, result=result)\n"
     ]
    }
   ],
   "source": [
    "df1 = pd.read_csv('df1_final.csv')\n",
    "df1 = df1.drop(columns=['Unnamed: 0'])"
   ]
  },
  {
   "cell_type": "code",
   "execution_count": 4,
   "metadata": {},
   "outputs": [],
   "source": [
    "# Select only the columns that will be used for prediction\n",
    "df1 = df1[['hotel_id', 'locale', 'city', 'country', 'abc_category',\n",
    "           'stars', 'rating','campaign_id','campaign_duration', \n",
    "           'direct_booking_value_per_campaign','direct_clicks_per_campaign']]"
   ]
  },
  {
   "cell_type": "markdown",
   "metadata": {},
   "source": [
    "## 1.3 - Transform the dataset and engineer some features (again)"
   ]
  },
  {
   "cell_type": "code",
   "execution_count": 5,
   "metadata": {},
   "outputs": [],
   "source": [
    "# set rating to numeric, and those values that are null, I will insert rating = 7401, cause it's the most frequent rating value\n",
    "df1['rating'] = df1['rating'].apply(lambda x: int(x) if x != '\\\\N' else 7401)"
   ]
  },
  {
   "cell_type": "code",
   "execution_count": 6,
   "metadata": {},
   "outputs": [],
   "source": [
    "# we will drop the duplicates as we are not working with information for each day\n",
    "df1 = df1.drop_duplicates()"
   ]
  },
  {
   "cell_type": "markdown",
   "metadata": {},
   "source": [
    "I added a feature that counts the frequency of hotel_id\n",
    "\n",
    "As hotel_id is a numeric value, the model could make the assumption the wrong assumption about its meaning, and setting it to a categorical value, would make the dataset huge. I assume that counting the frequency is a good method to use in this case."
   ]
  },
  {
   "cell_type": "code",
   "execution_count": 7,
   "metadata": {},
   "outputs": [],
   "source": [
    "frequency_hotel_id = df1.groupby('hotel_id').locale.count().reset_index().rename(columns={'locale':'frequency_hotel_id'})\n",
    "df1 = df1.merge(frequency_hotel_id)"
   ]
  },
  {
   "cell_type": "code",
   "execution_count": 8,
   "metadata": {},
   "outputs": [],
   "source": [
    "df1.to_csv('final.csv')"
   ]
  },
  {
   "cell_type": "markdown",
   "metadata": {},
   "source": [
    "## 1.4 - Get dummies and Train/Test Split"
   ]
  },
  {
   "cell_type": "code",
   "execution_count": 9,
   "metadata": {},
   "outputs": [],
   "source": [
    "dff = df1.drop(columns=['hotel_id'])\n",
    "\n",
    "dff = pd.get_dummies(dff, columns=['locale','city','country','abc_category'])"
   ]
  },
  {
   "cell_type": "code",
   "execution_count": 10,
   "metadata": {},
   "outputs": [],
   "source": [
    "X = dff.drop(columns=['direct_booking_value_per_campaign', 'direct_clicks_per_campaign'])\n",
    "\n",
    "# Select our target/dependent variable\n",
    "y = dff[['direct_booking_value_per_campaign', 'direct_clicks_per_campaign']]\n",
    "\n",
    "# Split the data into training/testing sets\n",
    "X_train, X_test, y_train, y_test = train_test_split(X, y, \n",
    "                                                    test_size=0.33, random_state=42)"
   ]
  },
  {
   "cell_type": "markdown",
   "metadata": {},
   "source": [
    "## 2 - Analyzing dependent variables\n",
    "\n",
    "I used hte following materials as resources to analyze the dependent variables.\n",
    "\n",
    "https://scikit-learn.org/stable/auto_examples/ensemble/plot_random_forest_regression_multioutput.html\n",
    "\n",
    "http://hb.diva-portal.org/smash/get/diva2:1309070/FULLTEXT01\n",
    "\n",
    "http://astrohackweek.org/blog/multi-output-random-forests.html"
   ]
  },
  {
   "cell_type": "code",
   "execution_count": 11,
   "metadata": {},
   "outputs": [],
   "source": [
    "y = y.values"
   ]
  },
  {
   "cell_type": "code",
   "execution_count": 12,
   "metadata": {},
   "outputs": [
    {
     "data": {
      "image/png": "[encoded data removed]",
      "text/plain": [
       "<Figure size 432x288 with 1 Axes>"
      ]
     },
     "metadata": {
      "needs_background": "light"
     },
     "output_type": "display_data"
    }
   ],
   "source": [
    "fig, ax = plt.subplots()\n",
    "ax.plot(y[:, 0], y[:, 1], 'o', alpha=0.5)\n",
    "\n",
    "ax.set_xlabel('y1 - direct_booking_value_per_campaign'); ax.set_ylabel('y2 - direct_clicks_per_campaign');"
   ]
  },
  {
   "cell_type": "code",
   "execution_count": 15,
   "metadata": {},
   "outputs": [],
   "source": [
    "from sklearn.ensemble import RandomForestRegressor\n",
    "\n",
    "clf1 = RandomForestRegressor(100).fit(X_train.drop(columns=['campaign_id']), y_train)\n",
    "Ypred1 = clf1.predict(X_test.drop(columns=['campaign_id']))\n"
   ]
  },
  {
   "cell_type": "code",
   "execution_count": null,
   "metadata": {},
   "outputs": [],
   "source": [
    "fig, ax = plt.subplots()\n",
    "ax.plot(Ypred1[:, 0], Ypred1[:, 1], 'o', alpha=0.5)\n",
    "\n",
    "ax.set_xlabel('y1 - direct_booking_value_per_campaign'); ax.set_ylabel('y2 - direct_clicks_per_campaign');"
   ]
  },
  {
   "cell_type": "code",
   "execution_count": 18,
   "metadata": {},
   "outputs": [],
   "source": [
    "class MultiOutputRF(object):\n",
    "    def __init__(self, *args, **kwargs):\n",
    "        self.args = args\n",
    "        self.kwargs = kwargs\n",
    "        \n",
    "    def fit(self, X, Y):\n",
    "        X, Y = map(np.atleast_2d, (X, Y))\n",
    "        assert X.shape[0] == Y.shape[0]\n",
    "        Ny = Y.shape[1]\n",
    "        \n",
    "        self.clfs = []\n",
    "        for i in range(Ny):\n",
    "            clf = RandomForestRegressor(*self.args, **self.kwargs)\n",
    "            Xi = np.hstack([X, Y[:, :i]])\n",
    "            yi = Y[:, i]\n",
    "            self.clfs.append(clf.fit(Xi, yi))\n",
    "            \n",
    "        return self\n",
    "        \n",
    "    def predict(self, X):\n",
    "        Y = np.empty([X.shape[0], len(self.clfs)])\n",
    "        for i, clf in enumerate(self.clfs):\n",
    "            Y[:, i] = clf.predict(np.hstack([X, Y[:, :i]]))\n",
    "        return Y"
   ]
  },
  {
   "cell_type": "code",
   "execution_count": 19,
   "metadata": {},
   "outputs": [],
   "source": [
    "clf2 = MultiOutputRF(100).fit(X_train.drop(columns=['campaign_id']), y_train)\n",
    "Ypred2 = clf2.predict(X_test.drop(columns=['campaign_id']))"
   ]
  },
  {
   "cell_type": "code",
   "execution_count": 20,
   "metadata": {},
   "outputs": [
    {
     "data": {
      "image/png": "[encoded data removed]",
      "text/plain": [
       "<Figure size 720x288 with 2 Axes>"
      ]
     },
     "metadata": {
      "needs_background": "light"
     },
     "output_type": "display_data"
    }
   ],
   "source": [
    "fig, ax = plt.subplots(1, 2, figsize=(10, 4), sharex=True, sharey=True)\n",
    "    \n",
    "ax[0].plot(Ypred1[:, 0], Ypred1[:, 1], 'o', alpha=0.7)\n",
    "ax[1].plot(Ypred2[:, 0], Ypred2[:, 1], 'o', alpha=0.7)\n",
    "\n",
    "ax[0].set_title(\"Standard method\")\n",
    "ax[1].set_title(\"Daisy-chain method\")\n",
    "\n",
    "ax[0].set_xlabel('y1 - direct_booking_value_per_campaign'); \n",
    "ax[0].set_ylabel('y2 - direct_clicks_per_campaign');\n",
    "\n",
    "ax[1].set_xlabel('y1 - direct_booking_value_per_campaign'); \n",
    "ax[1].set_ylabel('y2 - direct_clicks_per_campaign');"
   ]
  },
  {
   "cell_type": "markdown",
   "metadata": {},
   "source": [
    "# 3 - Predict dependent variables y1 and y2\n",
    "\n",
    "This regression task has an unique charcteristics, it has 2 outputs (two dependend variables).\n",
    "\n",
    "I've done some research about what is the best algorithm for a Multi-OutPut regression task, although, as I am not familiar with some applications that I've read about, I preferred to create separate model to predict y1 and y2"
   ]
  },
  {
   "cell_type": "code",
   "execution_count": 21,
   "metadata": {},
   "outputs": [],
   "source": [
    "# y_train\n",
    "y_train = y_train.values\n",
    "y_test = y_test.values"
   ]
  },
  {
   "cell_type": "code",
   "execution_count": 22,
   "metadata": {},
   "outputs": [],
   "source": [
    "y1_cost_train = y_train[:, 0]\n",
    "y2_clicks_train = y_train[:, 1]\n",
    "\n",
    "y1_cost_test = y_test[:, 0]\n",
    "y2_clicks_test = y_test[:, 1]"
   ]
  },
  {
   "cell_type": "markdown",
   "metadata": {},
   "source": [
    "### direct_booking_value_per_campaign"
   ]
  },
  {
   "cell_type": "code",
   "execution_count": 23,
   "metadata": {},
   "outputs": [
    {
     "data": {
      "text/plain": [
       "Index(['stars', 'rating', 'campaign_id', 'campaign_duration',\n",
       "       'frequency_hotel_id', 'locale_DE', 'locale_ES', 'locale_FR',\n",
       "       'locale_IT', 'locale_UK',\n",
       "       ...\n",
       "       'country_Romania', 'country_Slovenia', 'country_Spain',\n",
       "       'country_Switzerland', 'country_United Kingdom', 'abc_category_A',\n",
       "       'abc_category_B', 'abc_category_C1', 'abc_category_C2',\n",
       "       'abc_category_C3'],\n",
       "      dtype='object', length=545)"
      ]
     },
     "execution_count": 23,
     "metadata": {},
     "output_type": "execute_result"
    }
   ],
   "source": [
    "X_train.columns"
   ]
  },
  {
   "cell_type": "code",
   "execution_count": 24,
   "metadata": {},
   "outputs": [
    {
     "name": "stdout",
     "output_type": "stream",
     "text": [
      "Fitting 180 folds for each of 16 candidates, totalling 2880 fits\n"
     ]
    },
    {
     "name": "stderr",
     "output_type": "stream",
     "text": [
      "[Parallel(n_jobs=1)]: Using backend SequentialBackend with 1 concurrent workers.\n"
     ]
    },
    {
     "name": "stdout",
     "output_type": "stream",
     "text": [
      "{'max_depth': 32}\n",
      "Random Forest absolute error:  732.5640587246213\n",
      "Random Forest squared error:  2146147.302875735\n",
      "0.3403637574708291\n"
     ]
    },
    {
     "name": "stderr",
     "output_type": "stream",
     "text": [
      "[Parallel(n_jobs=1)]: Done 2880 out of 2880 | elapsed:  5.4min finished\n"
     ]
    }
   ],
   "source": [
    "cv = RepeatedKFold(n_splits=12, n_repeats=15)\n",
    "regr_rf1 = GridSearchCV(RandomForestRegressor(), cv=cv, verbose=1,\n",
    "                  param_grid={\"max_depth\": np.arange(2,50,3)})\n",
    "\n",
    "regr_rf1.fit(X_train.drop(columns=['campaign_id']), y1_cost_train)\n",
    "y1_cost_pred = regr_rf1.predict(X_test.drop(columns=['campaign_id']))\n",
    "print(regr_rf1.best_params_);\n",
    "\n",
    "# model evaluation\n",
    "print('Random Forest absolute error: ', mean_absolute_error(y1_cost_test, y1_cost_pred))\n",
    "print('Random Forest squared error: ',mean_squared_error(y1_cost_test, y1_cost_pred))\n",
    "\n",
    "print(regr_rf1.best_score_)"
   ]
  },
  {
   "cell_type": "code",
   "execution_count": 45,
   "metadata": {},
   "outputs": [],
   "source": [
    "# regr_rf1.cv_results_"
   ]
  },
  {
   "cell_type": "code",
   "execution_count": 26,
   "metadata": {},
   "outputs": [],
   "source": [
    "pickle.dump(regr_rf1, open('y1_cost_pred1.pkl','wb'))"
   ]
  },
  {
   "cell_type": "markdown",
   "metadata": {},
   "source": [
    "### Predict direct_clicks_per_campaign"
   ]
  },
  {
   "cell_type": "code",
   "execution_count": 27,
   "metadata": {},
   "outputs": [
    {
     "name": "stdout",
     "output_type": "stream",
     "text": [
      "Fitting 60 folds for each of 33 candidates, totalling 1980 fits\n"
     ]
    },
    {
     "name": "stderr",
     "output_type": "stream",
     "text": [
      "[Parallel(n_jobs=1)]: Using backend SequentialBackend with 1 concurrent workers.\n"
     ]
    },
    {
     "name": "stdout",
     "output_type": "stream",
     "text": [
      "{'max_depth': 38}\n",
      "Random Forest absolute error:  156.90587200740012\n",
      "Random Forest squared error:  84235.2653944885\n",
      "0.48802247137726923\n"
     ]
    },
    {
     "name": "stderr",
     "output_type": "stream",
     "text": [
      "[Parallel(n_jobs=1)]: Done 1980 out of 1980 | elapsed:  3.5min finished\n"
     ]
    }
   ],
   "source": [
    "cv = RepeatedKFold(n_splits=6, n_repeats=10)\n",
    "regr_rf2 = GridSearchCV(RandomForestRegressor(), cv=cv, verbose=1,\n",
    "                  param_grid={\"max_depth\": np.arange(2,100,3)})\n",
    "#regr_dt = DecisionTreeRegressor(max_depth=2)\n",
    "regr_rf2.fit(X_train.drop(columns=['campaign_id']), y2_clicks_train)\n",
    "y2_clicks_pred = regr_rf2.predict(X_test.drop(columns=['campaign_id']))\n",
    "print(regr_rf2.best_params_);\n",
    "\n",
    "# model evaluation\n",
    "print('Random Forest absolute error: ', mean_absolute_error(y2_clicks_test, y2_clicks_pred))\n",
    "print('Random Forest squared error: ',mean_squared_error(y2_clicks_test, y2_clicks_pred))\n",
    "\n",
    "print(regr_rf2.best_score_)"
   ]
  },
  {
   "cell_type": "code",
   "execution_count": 28,
   "metadata": {},
   "outputs": [],
   "source": [
    "pickle.dump(regr_rf2, open('y2_clicks_pred1.pkl','wb'))"
   ]
  },
  {
   "cell_type": "markdown",
   "metadata": {},
   "source": [
    "## 3.1 - Analyzing Model Performance"
   ]
  },
  {
   "cell_type": "markdown",
   "metadata": {},
   "source": [
    "Predicting the number of clicks and the booking_values for each campaign, before the campaign start, is not an easy task.\n",
    "\n",
    "Although, by analyzing the results above, and imagining that if someone would set a random CPC bid, we would likely be better in estimating the right CPC, as the model can predict 48% of variability of the sum of clicks, and 34% of the booking value by campaign.\n",
    "\n",
    "Again, this is not an optimal result, and it would be good to analyze how TRIVAGO algorithm can predict those values to really access the benefit of this prediction."
   ]
  },
  {
   "cell_type": "markdown",
   "metadata": {},
   "source": [
    "## 3.2 - Create dataframe with results\n",
    "\n",
    "This will be the csv sent for challenge evaluation."
   ]
  },
  {
   "cell_type": "code",
   "execution_count": 55,
   "metadata": {},
   "outputs": [],
   "source": [
    "X2 = X"
   ]
  },
  {
   "cell_type": "code",
   "execution_count": 57,
   "metadata": {},
   "outputs": [],
   "source": [
    "X2['y1_booking_value_pred'] = regr_rf1.predict(X.drop(columns=['campaign_id']))\n",
    "X2['y2_clicks_pred'] = regr_rf2.predict(X.drop(columns=['campaign_id','y1_booking_value_pred']))"
   ]
  },
  {
   "cell_type": "code",
   "execution_count": 53,
   "metadata": {},
   "outputs": [],
   "source": [
    "X2['predicted_bvpc'] = X2['y1_booking_value_pred'] / X2['y2_clicks_pred']"
   ]
  },
  {
   "cell_type": "code",
   "execution_count": 64,
   "metadata": {},
   "outputs": [],
   "source": [
    "dd = pd.read_csv('df1_final.csv')\n",
    "dd = dd.drop(columns=['Unnamed: 0'])\n",
    "\n",
    "dd = dd[['direct_booking_value_per_campaign','direct_clicks_per_campaign','campaign_id']]\n",
    "dd = dd.drop_duplicates()"
   ]
  },
  {
   "cell_type": "code",
   "execution_count": 59,
   "metadata": {},
   "outputs": [],
   "source": [
    "X2 = X2.merge(dd, on='campaign_id')"
   ]
  },
  {
   "cell_type": "code",
   "execution_count": 73,
   "metadata": {},
   "outputs": [
    {
     "name": "stderr",
     "output_type": "stream",
     "text": [
      "/usr/local/lib/python3.5/dist-packages/ipykernel_launcher.py:2: SettingWithCopyWarning: \n",
      "A value is trying to be set on a copy of a slice from a DataFrame.\n",
      "Try using .loc[row_indexer,col_indexer] = value instead\n",
      "\n",
      "See the caveats in the documentation: http://pandas.pydata.org/pandas-docs/stable/indexing.html#indexing-view-versus-copy\n",
      "  \n"
     ]
    }
   ],
   "source": [
    "X2['book_val_error'] = X2['y1_booking_value_pred'] - X2['direct_booking_value_per_campaign']\n",
    "X2['clicks_error'] = X2['y2_clicks_pred'] - X2['direct_clicks_per_campaign']"
   ]
  },
  {
   "cell_type": "code",
   "execution_count": 74,
   "metadata": {},
   "outputs": [],
   "source": [
    "X2 = X2[['stars', 'rating', 'campaign_id', 'campaign_duration',\n",
    "       'frequency_hotel_id', 'y1_booking_value_pred', 'y2_clicks_pred',\n",
    "       'predicted_bvpc', 'direct_booking_value_per_campaign',\n",
    "       'direct_clicks_per_campaign', 'book_val_error', 'clicks_error']]"
   ]
  },
  {
   "cell_type": "code",
   "execution_count": 75,
   "metadata": {},
   "outputs": [],
   "source": [
    "X2['target_cpc_bid'] = X2['predicted_bvpc'] * 0.15"
   ]
  },
  {
   "cell_type": "code",
   "execution_count": 78,
   "metadata": {},
   "outputs": [
    {
     "data": {
      "text/html": [
       "<div>\n",
       "<style scoped>\n",
       "    .dataframe tbody tr th:only-of-type {\n",
       "        vertical-align: middle;\n",
       "    }\n",
       "\n",
       "    .dataframe tbody tr th {\n",
       "        vertical-align: top;\n",
       "    }\n",
       "\n",
       "    .dataframe thead th {\n",
       "        text-align: right;\n",
       "    }\n",
       "</style>\n",
       "<table border=\"1\" class=\"dataframe\">\n",
       "  <thead>\n",
       "    <tr style=\"text-align: right;\">\n",
       "      <th></th>\n",
       "      <th>stars</th>\n",
       "      <th>rating</th>\n",
       "      <th>campaign_id</th>\n",
       "      <th>campaign_duration</th>\n",
       "      <th>frequency_hotel_id</th>\n",
       "      <th>y1_booking_value_pred</th>\n",
       "      <th>y2_clicks_pred</th>\n",
       "      <th>predicted_bvpc</th>\n",
       "      <th>direct_booking_value_per_campaign</th>\n",
       "      <th>direct_clicks_per_campaign</th>\n",
       "      <th>book_val_error</th>\n",
       "      <th>clicks_error</th>\n",
       "      <th>target_cpc_bid</th>\n",
       "    </tr>\n",
       "  </thead>\n",
       "  <tbody>\n",
       "    <tr>\n",
       "      <th>0</th>\n",
       "      <td>4</td>\n",
       "      <td>8153</td>\n",
       "      <td>8967_DE</td>\n",
       "      <td>89</td>\n",
       "      <td>1</td>\n",
       "      <td>1147.926952</td>\n",
       "      <td>265.695652</td>\n",
       "      <td>4.320458</td>\n",
       "      <td>1207.0</td>\n",
       "      <td>278</td>\n",
       "      <td>-59.073048</td>\n",
       "      <td>-12.304348</td>\n",
       "      <td>0.648069</td>\n",
       "    </tr>\n",
       "    <tr>\n",
       "      <th>1</th>\n",
       "      <td>4</td>\n",
       "      <td>8208</td>\n",
       "      <td>9664_IT</td>\n",
       "      <td>89</td>\n",
       "      <td>1</td>\n",
       "      <td>390.187722</td>\n",
       "      <td>297.300000</td>\n",
       "      <td>1.312438</td>\n",
       "      <td>146.0</td>\n",
       "      <td>230</td>\n",
       "      <td>244.187722</td>\n",
       "      <td>67.300000</td>\n",
       "      <td>0.196866</td>\n",
       "    </tr>\n",
       "    <tr>\n",
       "      <th>2</th>\n",
       "      <td>4</td>\n",
       "      <td>8940</td>\n",
       "      <td>12685_DE</td>\n",
       "      <td>89</td>\n",
       "      <td>1</td>\n",
       "      <td>531.891955</td>\n",
       "      <td>583.700000</td>\n",
       "      <td>0.911242</td>\n",
       "      <td>595.0</td>\n",
       "      <td>672</td>\n",
       "      <td>-63.108045</td>\n",
       "      <td>-88.300000</td>\n",
       "      <td>0.136686</td>\n",
       "    </tr>\n",
       "    <tr>\n",
       "      <th>3</th>\n",
       "      <td>3</td>\n",
       "      <td>7963</td>\n",
       "      <td>13493_FR</td>\n",
       "      <td>89</td>\n",
       "      <td>3</td>\n",
       "      <td>538.023828</td>\n",
       "      <td>134.600000</td>\n",
       "      <td>3.997205</td>\n",
       "      <td>216.0</td>\n",
       "      <td>73</td>\n",
       "      <td>322.023828</td>\n",
       "      <td>61.600000</td>\n",
       "      <td>0.599581</td>\n",
       "    </tr>\n",
       "    <tr>\n",
       "      <th>4</th>\n",
       "      <td>3</td>\n",
       "      <td>7963</td>\n",
       "      <td>13493_IT</td>\n",
       "      <td>89</td>\n",
       "      <td>3</td>\n",
       "      <td>571.901704</td>\n",
       "      <td>385.600000</td>\n",
       "      <td>1.483148</td>\n",
       "      <td>828.0</td>\n",
       "      <td>294</td>\n",
       "      <td>-256.098296</td>\n",
       "      <td>91.600000</td>\n",
       "      <td>0.222472</td>\n",
       "    </tr>\n",
       "  </tbody>\n",
       "</table>\n",
       "</div>"
      ],
      "text/plain": [
       "   stars  rating campaign_id  campaign_duration  frequency_hotel_id  \\\n",
       "0      4    8153     8967_DE                 89                   1   \n",
       "1      4    8208     9664_IT                 89                   1   \n",
       "2      4    8940    12685_DE                 89                   1   \n",
       "3      3    7963    13493_FR                 89                   3   \n",
       "4      3    7963    13493_IT                 89                   3   \n",
       "\n",
       "   y1_booking_value_pred  y2_clicks_pred  predicted_bvpc  \\\n",
       "0            1147.926952      265.695652        4.320458   \n",
       "1             390.187722      297.300000        1.312438   \n",
       "2             531.891955      583.700000        0.911242   \n",
       "3             538.023828      134.600000        3.997205   \n",
       "4             571.901704      385.600000        1.483148   \n",
       "\n",
       "   direct_booking_value_per_campaign  direct_clicks_per_campaign  \\\n",
       "0                             1207.0                         278   \n",
       "1                              146.0                         230   \n",
       "2                              595.0                         672   \n",
       "3                              216.0                          73   \n",
       "4                              828.0                         294   \n",
       "\n",
       "   book_val_error  clicks_error  target_cpc_bid  \n",
       "0      -59.073048    -12.304348        0.648069  \n",
       "1      244.187722     67.300000        0.196866  \n",
       "2      -63.108045    -88.300000        0.136686  \n",
       "3      322.023828     61.600000        0.599581  \n",
       "4     -256.098296     91.600000        0.222472  "
      ]
     },
     "execution_count": 78,
     "metadata": {},
     "output_type": "execute_result"
    }
   ],
   "source": [
    "X2.head()"
   ]
  },
  {
   "cell_type": "code",
   "execution_count": 79,
   "metadata": {},
   "outputs": [],
   "source": [
    "X2.to_csv('results/final_predictions.csv')"
   ]
  },
  {
   "cell_type": "markdown",
   "metadata": {},
   "source": [
    "# 4 - Analyzing feature importance for dependent variable"
   ]
  },
  {
   "cell_type": "markdown",
   "metadata": {},
   "source": [
    "**feat_imp_book_value**"
   ]
  },
  {
   "cell_type": "code",
   "execution_count": 89,
   "metadata": {},
   "outputs": [],
   "source": [
    "feature_list = list(X_train.drop(columns=['campaign_id']).columns)\n",
    "\n",
    "# Get numerical feature importances\n",
    "importances = list(regr_rf1.best_estimator_.feature_importances_)\n",
    "\n",
    "# List of tuples with variable and importance\n",
    "feature_importances_book_value = [[feature, round(importance, 5)] for feature, importance in zip(feature_list, importances)]\n",
    "# Sort the feature importances by most important first\n",
    "# feature_importances_book_value = sorted(feature_importances, key = lambda x: x[1], reverse = True)\n",
    "\n",
    "feature_importances_book_value = pd.DataFrame(feature_importances_book_value).rename(columns={0:'feature',1:'feat_imp_book_value'})"
   ]
  },
  {
   "cell_type": "markdown",
   "metadata": {},
   "source": [
    "**feat_impf_clicks**"
   ]
  },
  {
   "cell_type": "code",
   "execution_count": 90,
   "metadata": {},
   "outputs": [],
   "source": [
    "feature_list = list(X_train.drop(columns=['campaign_id']).columns)\n",
    "\n",
    "# Get numerical feature importances\n",
    "importances = list(regr_rf2.best_estimator_.feature_importances_)\n",
    "\n",
    "# List of tuples with variable and importance\n",
    "feature_importances = [[feature, round(importance, 5)] for feature, importance in zip(feature_list, importances)]\n",
    "# Sort the feature importances by most important first\n",
    "feature_importances = sorted(feature_importances, key = lambda x: x[1], reverse = True)\n",
    "\n",
    "# Print out the feature and importances \n",
    "# for i in feature_importances[:34]:\n",
    "#     print(i)\n",
    "\n",
    "# Convert feature_importances to a df\n",
    "feature_importances = pd.DataFrame(feature_importances).rename(columns={0:'feature',1:'feat_imp_clicks'})"
   ]
  },
  {
   "cell_type": "code",
   "execution_count": 91,
   "metadata": {},
   "outputs": [],
   "source": [
    "feature_importances = feature_importances.merge(feature_importances_book_value, on='feature')"
   ]
  },
  {
   "cell_type": "markdown",
   "metadata": {},
   "source": [
    "As we can see on the graph below, most of the coefficients were set to zero, as those features were not important to the model"
   ]
  },
  {
   "cell_type": "code",
   "execution_count": 93,
   "metadata": {},
   "outputs": [
    {
     "data": {
      "text/plain": [
       "<matplotlib.axes._subplots.AxesSubplot at 0x7f314796cc18>"
      ]
     },
     "execution_count": 93,
     "metadata": {},
     "output_type": "execute_result"
    },
    {
     "data": {
      "image/png": "[encoded data removed]",
      "text/plain": [
       "<Figure size 432x288 with 1 Axes>"
      ]
     },
     "metadata": {
      "needs_background": "light"
     },
     "output_type": "display_data"
    }
   ],
   "source": [
    "sns.distplot(feature_importances['feat_imp_clicks'])"
   ]
  },
  {
   "cell_type": "code",
   "execution_count": 101,
   "metadata": {},
   "outputs": [
    {
     "data": {
      "text/plain": [
       "<matplotlib.axes._subplots.AxesSubplot at 0x7f3143f78dd8>"
      ]
     },
     "execution_count": 101,
     "metadata": {},
     "output_type": "execute_result"
    },
    {
     "data": {
      "image/png": "[encoded data removed]",
      "text/plain": [
       "<Figure size 432x288 with 1 Axes>"
      ]
     },
     "metadata": {
      "needs_background": "light"
     },
     "output_type": "display_data"
    }
   ],
   "source": [
    "sns.distplot(feature_importances['feat_imp_book_value'])"
   ]
  },
  {
   "cell_type": "code",
   "execution_count": 95,
   "metadata": {},
   "outputs": [],
   "source": [
    "feature_importances['rank_feat_imp_clicks'] = feature_importances['feat_imp_clicks'].rank(ascending=False) \n",
    "feature_importances['rank_feat_imp_book_value'] = feature_importances['feat_imp_book_value'].rank(ascending=False) "
   ]
  },
  {
   "cell_type": "code",
   "execution_count": 98,
   "metadata": {},
   "outputs": [
    {
     "data": {
      "text/html": [
       "<div>\n",
       "<style scoped>\n",
       "    .dataframe tbody tr th:only-of-type {\n",
       "        vertical-align: middle;\n",
       "    }\n",
       "\n",
       "    .dataframe tbody tr th {\n",
       "        vertical-align: top;\n",
       "    }\n",
       "\n",
       "    .dataframe thead th {\n",
       "        text-align: right;\n",
       "    }\n",
       "</style>\n",
       "<table border=\"1\" class=\"dataframe\">\n",
       "  <thead>\n",
       "    <tr style=\"text-align: right;\">\n",
       "      <th></th>\n",
       "      <th>feature</th>\n",
       "      <th>feat_imp_clicks</th>\n",
       "      <th>feat_imp_book_value</th>\n",
       "      <th>rank_feat_imp_clicks</th>\n",
       "      <th>rank_feat_imp_book_value</th>\n",
       "    </tr>\n",
       "  </thead>\n",
       "  <tbody>\n",
       "    <tr>\n",
       "      <th>0</th>\n",
       "      <td>abc_category_A</td>\n",
       "      <td>0.12749</td>\n",
       "      <td>0.04472</td>\n",
       "      <td>1.0</td>\n",
       "      <td>6.0</td>\n",
       "    </tr>\n",
       "    <tr>\n",
       "      <th>1</th>\n",
       "      <td>rating</td>\n",
       "      <td>0.12261</td>\n",
       "      <td>0.09782</td>\n",
       "      <td>2.0</td>\n",
       "      <td>1.0</td>\n",
       "    </tr>\n",
       "    <tr>\n",
       "      <th>2</th>\n",
       "      <td>locale_IT</td>\n",
       "      <td>0.08393</td>\n",
       "      <td>0.04861</td>\n",
       "      <td>3.0</td>\n",
       "      <td>4.0</td>\n",
       "    </tr>\n",
       "    <tr>\n",
       "      <th>3</th>\n",
       "      <td>city_Puerto de la Cruz</td>\n",
       "      <td>0.07587</td>\n",
       "      <td>0.05752</td>\n",
       "      <td>4.0</td>\n",
       "      <td>2.0</td>\n",
       "    </tr>\n",
       "    <tr>\n",
       "      <th>4</th>\n",
       "      <td>abc_category_B</td>\n",
       "      <td>0.04066</td>\n",
       "      <td>0.02209</td>\n",
       "      <td>5.0</td>\n",
       "      <td>16.0</td>\n",
       "    </tr>\n",
       "  </tbody>\n",
       "</table>\n",
       "</div>"
      ],
      "text/plain": [
       "                  feature  feat_imp_clicks  feat_imp_book_value  \\\n",
       "0          abc_category_A          0.12749              0.04472   \n",
       "1                  rating          0.12261              0.09782   \n",
       "2               locale_IT          0.08393              0.04861   \n",
       "3  city_Puerto de la Cruz          0.07587              0.05752   \n",
       "4          abc_category_B          0.04066              0.02209   \n",
       "\n",
       "   rank_feat_imp_clicks  rank_feat_imp_book_value  \n",
       "0                   1.0                       6.0  \n",
       "1                   2.0                       1.0  \n",
       "2                   3.0                       4.0  \n",
       "3                   4.0                       2.0  \n",
       "4                   5.0                      16.0  "
      ]
     },
     "execution_count": 98,
     "metadata": {},
     "output_type": "execute_result"
    }
   ],
   "source": [
    "feature_importances.head()"
   ]
  },
  {
   "cell_type": "code",
   "execution_count": 100,
   "metadata": {},
   "outputs": [
    {
     "data": {
      "text/plain": [
       "<matplotlib.axes._subplots.AxesSubplot at 0x7f314401a518>"
      ]
     },
     "execution_count": 100,
     "metadata": {},
     "output_type": "execute_result"
    },
    {
     "data": {
      "image/png": "[encoded data removed]",
      "text/plain": [
       "<Figure size 432x288 with 1 Axes>"
      ]
     },
     "metadata": {
      "needs_background": "light"
     },
     "output_type": "display_data"
    }
   ],
   "source": [
    "sns.scatterplot(x=\"rank_feat_imp_clicks\", y=\"rank_feat_imp_book_value\", data=feature_importances)"
   ]
  },
  {
   "cell_type": "markdown",
   "metadata": {},
   "source": [
    "The importance of each feature for predicting each dependent variable are follows a linear relationship. \n",
    "\n",
    "The variables that explains one dependent variable, let's say clicks, are also good in explaining the other (booking_value)."
   ]
  },
  {
   "cell_type": "markdown",
   "metadata": {},
   "source": [
    "# 5 - Future Work\n",
    "\n",
    "* Deeper analysis on feature importance and coefficients - this is basic, although I couldn't manage to do so, due to time constraint\n",
    "\n",
    "* Compare predicted CPC bid with actual bid for each campaign, remembering that we are only considering campaign that reached more than 15% CPA, and analyzing the effects of this prediction in terms of improving campaign performance.\n",
    "\n",
    "* It would be useful to analyze performance metrices like CTR, BVPC and sum of costs by campaign, after implementing this CPC bid prediction.\n",
    "\n",
    "* Develop a model to predict CPC bid for each day after a given \"training\" period of performance (as explained on the task definition in the beginning of this notebook)"
   ]
  }
 ],
 "metadata": {
  "kernelspec": {
   "display_name": "Python 3",
   "language": "python",
   "name": "python3"
  },
  "language_info": {
   "codemirror_mode": {
    "name": "ipython",
    "version": 3
   },
   "file_extension": ".py",
   "mimetype": "text/x-python",
   "name": "python",
   "nbconvert_exporter": "python",
   "pygments_lexer": "ipython3",
   "version": "3.5.3"
  }
 },
 "nbformat": 4,
 "nbformat_minor": 2
}
