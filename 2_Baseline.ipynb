{
 "cells": [
  {
   "cell_type": "markdown",
   "metadata": {},
   "source": [
    "**Import libraries**"
   ]
  },
  {
   "cell_type": "code",
   "execution_count": 1,
   "metadata": {},
   "outputs": [],
   "source": [
    "import pandas as pd\n",
    "import numpy as np\n",
    "import seaborn as sns\n",
    "import matplotlib.pyplot as plt\n",
    "from datetime import datetime\n",
    "\n",
    "from sklearn.model_selection import train_test_split\n",
    "from sklearn.linear_model import LinearRegression, Lasso, LassoCV, RidgeCV, Ridge\n",
    "from sklearn.pipeline import make_pipeline\n",
    "from sklearn.preprocessing import PolynomialFeatures\n",
    "from sklearn.model_selection import KFold, RepeatedKFold\n",
    "from sklearn.ensemble import RandomForestRegressor\n",
    "from sklearn.metrics import mean_absolute_error, mean_squared_error, r2_score\n",
    "\n",
    "\n",
    "from pprint import pprint"
   ]
  },
  {
   "cell_type": "code",
   "execution_count": 2,
   "metadata": {},
   "outputs": [
    {
     "name": "stderr",
     "output_type": "stream",
     "text": [
      "/usr/local/lib/python3.5/dist-packages/IPython/core/interactiveshell.py:3049: DtypeWarning: Columns (7) have mixed types. Specify dtype option on import or set low_memory=False.\n",
      "  interactivity=interactivity, compiler=compiler, result=result)\n"
     ]
    }
   ],
   "source": [
    "df1 = pd.read_csv('df1_final.csv')\n",
    "df1 = df1.drop(columns=['Unnamed: 0'])"
   ]
  },
  {
   "cell_type": "markdown",
   "metadata": {},
   "source": [
    "# 1. BASELINE - Predict BVPC after campaign is over\n",
    "\n",
    "As a baseline model, I will try to predict BVPC, after the last day of the campaign.\n",
    "\n",
    "Let's suppose is live for 90 days, I will predict the BVPC for the 91st day.\n",
    "After predicting the BVPC, I will set a CPA = 15% and calculate the ideal CPC bid for that day.\n",
    "\n",
    "Take the final result of each campaign.\n",
    "I will exclude daily performance data and keep only the features that I engineered before.\n",
    "\n",
    "**DEFINING THE TASK:**\n",
    "Train a regression model to predict the BVPC for each campaign.\n",
    "\n",
    "**MOTIVATION:**\n",
    "This idea of predicting with the final result of the campaign seems pretty basic, and not very challenging for a ML task.\n",
    "\n",
    "I decided to start with this model simple and obvious task, for 2 reasons:\n",
    "    1. I believe that a baseline model is a great tool for understanding the data and extracting insights, \n",
    "    so I wanted to begin modeling ASAP (specially with the time constraint in mind)\n",
    "    \n",
    "    2. I have worked for a DSP (demand-side platform), and a recurrent task was to educate clients \n",
    "    (the people that operated the platform). What I mean with this is that usually, clients were very anxious \n",
    "    to see a good campaign performance, although, an algorithm needs time and (most importantly) data to \n",
    "    optimize. And training this model with lots of data, represents how good a prediction can be."
   ]
  },
  {
   "cell_type": "code",
   "execution_count": 4,
   "metadata": {},
   "outputs": [
    {
     "data": {
      "text/html": [
       "<div>\n",
       "<style scoped>\n",
       "    .dataframe tbody tr th:only-of-type {\n",
       "        vertical-align: middle;\n",
       "    }\n",
       "\n",
       "    .dataframe tbody tr th {\n",
       "        vertical-align: top;\n",
       "    }\n",
       "\n",
       "    .dataframe thead th {\n",
       "        text-align: right;\n",
       "    }\n",
       "</style>\n",
       "<table border=\"1\" class=\"dataframe\">\n",
       "  <thead>\n",
       "    <tr style=\"text-align: right;\">\n",
       "      <th></th>\n",
       "      <th>hotel_id</th>\n",
       "      <th>locale</th>\n",
       "      <th>city</th>\n",
       "      <th>country</th>\n",
       "      <th>abc_category</th>\n",
       "      <th>stars</th>\n",
       "      <th>rating</th>\n",
       "      <th>direct_cost</th>\n",
       "      <th>other_cost</th>\n",
       "      <th>direct_clicks</th>\n",
       "      <th>...</th>\n",
       "      <th>campaign_id</th>\n",
       "      <th>first_conv_date</th>\n",
       "      <th>first_conv_click</th>\n",
       "      <th>campaign_start</th>\n",
       "      <th>campaign_end</th>\n",
       "      <th>days_till_convert</th>\n",
       "      <th>campaign_duration</th>\n",
       "      <th>other_click_per_campaign</th>\n",
       "      <th>other_bookings_per_campaign</th>\n",
       "      <th>other_booking_value_per_campaign</th>\n",
       "    </tr>\n",
       "  </thead>\n",
       "  <tbody>\n",
       "    <tr>\n",
       "      <th>0</th>\n",
       "      <td>8967</td>\n",
       "      <td>DE</td>\n",
       "      <td>Gotha</td>\n",
       "      <td>Germany</td>\n",
       "      <td>C2</td>\n",
       "      <td>4</td>\n",
       "      <td>8153</td>\n",
       "      <td>144</td>\n",
       "      <td>74</td>\n",
       "      <td>2</td>\n",
       "      <td>...</td>\n",
       "      <td>8967_DE</td>\n",
       "      <td>2019-01-14</td>\n",
       "      <td>111</td>\n",
       "      <td>2019-01-01</td>\n",
       "      <td>2019-03-31</td>\n",
       "      <td>13</td>\n",
       "      <td>89</td>\n",
       "      <td>54</td>\n",
       "      <td>1</td>\n",
       "      <td>171.9</td>\n",
       "    </tr>\n",
       "    <tr>\n",
       "      <th>1</th>\n",
       "      <td>8967</td>\n",
       "      <td>DE</td>\n",
       "      <td>Gotha</td>\n",
       "      <td>Germany</td>\n",
       "      <td>C2</td>\n",
       "      <td>4</td>\n",
       "      <td>8153</td>\n",
       "      <td>385</td>\n",
       "      <td>0</td>\n",
       "      <td>5</td>\n",
       "      <td>...</td>\n",
       "      <td>8967_DE</td>\n",
       "      <td>2019-01-14</td>\n",
       "      <td>111</td>\n",
       "      <td>2019-01-01</td>\n",
       "      <td>2019-03-31</td>\n",
       "      <td>13</td>\n",
       "      <td>89</td>\n",
       "      <td>54</td>\n",
       "      <td>1</td>\n",
       "      <td>171.9</td>\n",
       "    </tr>\n",
       "    <tr>\n",
       "      <th>2</th>\n",
       "      <td>8967</td>\n",
       "      <td>DE</td>\n",
       "      <td>Gotha</td>\n",
       "      <td>Germany</td>\n",
       "      <td>C2</td>\n",
       "      <td>4</td>\n",
       "      <td>8153</td>\n",
       "      <td>532</td>\n",
       "      <td>0</td>\n",
       "      <td>7</td>\n",
       "      <td>...</td>\n",
       "      <td>8967_DE</td>\n",
       "      <td>2019-01-14</td>\n",
       "      <td>111</td>\n",
       "      <td>2019-01-01</td>\n",
       "      <td>2019-03-31</td>\n",
       "      <td>13</td>\n",
       "      <td>89</td>\n",
       "      <td>54</td>\n",
       "      <td>1</td>\n",
       "      <td>171.9</td>\n",
       "    </tr>\n",
       "    <tr>\n",
       "      <th>3</th>\n",
       "      <td>8967</td>\n",
       "      <td>DE</td>\n",
       "      <td>Gotha</td>\n",
       "      <td>Germany</td>\n",
       "      <td>C2</td>\n",
       "      <td>4</td>\n",
       "      <td>8153</td>\n",
       "      <td>576</td>\n",
       "      <td>0</td>\n",
       "      <td>8</td>\n",
       "      <td>...</td>\n",
       "      <td>8967_DE</td>\n",
       "      <td>2019-01-14</td>\n",
       "      <td>111</td>\n",
       "      <td>2019-01-01</td>\n",
       "      <td>2019-03-31</td>\n",
       "      <td>13</td>\n",
       "      <td>89</td>\n",
       "      <td>54</td>\n",
       "      <td>1</td>\n",
       "      <td>171.9</td>\n",
       "    </tr>\n",
       "    <tr>\n",
       "      <th>4</th>\n",
       "      <td>8967</td>\n",
       "      <td>DE</td>\n",
       "      <td>Gotha</td>\n",
       "      <td>Germany</td>\n",
       "      <td>C2</td>\n",
       "      <td>4</td>\n",
       "      <td>8153</td>\n",
       "      <td>222</td>\n",
       "      <td>72</td>\n",
       "      <td>3</td>\n",
       "      <td>...</td>\n",
       "      <td>8967_DE</td>\n",
       "      <td>2019-01-14</td>\n",
       "      <td>111</td>\n",
       "      <td>2019-01-01</td>\n",
       "      <td>2019-03-31</td>\n",
       "      <td>13</td>\n",
       "      <td>89</td>\n",
       "      <td>54</td>\n",
       "      <td>1</td>\n",
       "      <td>171.9</td>\n",
       "    </tr>\n",
       "  </tbody>\n",
       "</table>\n",
       "<p>5 rows × 32 columns</p>\n",
       "</div>"
      ],
      "text/plain": [
       "   hotel_id locale   city  country abc_category  stars rating  direct_cost  \\\n",
       "0      8967     DE  Gotha  Germany           C2      4   8153          144   \n",
       "1      8967     DE  Gotha  Germany           C2      4   8153          385   \n",
       "2      8967     DE  Gotha  Germany           C2      4   8153          532   \n",
       "3      8967     DE  Gotha  Germany           C2      4   8153          576   \n",
       "4      8967     DE  Gotha  Germany           C2      4   8153          222   \n",
       "\n",
       "   other_cost  direct_clicks  ...  campaign_id  first_conv_date  \\\n",
       "0          74              2  ...      8967_DE       2019-01-14   \n",
       "1           0              5  ...      8967_DE       2019-01-14   \n",
       "2           0              7  ...      8967_DE       2019-01-14   \n",
       "3           0              8  ...      8967_DE       2019-01-14   \n",
       "4          72              3  ...      8967_DE       2019-01-14   \n",
       "\n",
       "   first_conv_click  campaign_start  campaign_end days_till_convert  \\\n",
       "0               111      2019-01-01    2019-03-31                13   \n",
       "1               111      2019-01-01    2019-03-31                13   \n",
       "2               111      2019-01-01    2019-03-31                13   \n",
       "3               111      2019-01-01    2019-03-31                13   \n",
       "4               111      2019-01-01    2019-03-31                13   \n",
       "\n",
       "   campaign_duration  other_click_per_campaign  other_bookings_per_campaign  \\\n",
       "0                 89                        54                            1   \n",
       "1                 89                        54                            1   \n",
       "2                 89                        54                            1   \n",
       "3                 89                        54                            1   \n",
       "4                 89                        54                            1   \n",
       "\n",
       "   other_booking_value_per_campaign  \n",
       "0                             171.9  \n",
       "1                             171.9  \n",
       "2                             171.9  \n",
       "3                             171.9  \n",
       "4                             171.9  \n",
       "\n",
       "[5 rows x 32 columns]"
      ]
     },
     "execution_count": 4,
     "metadata": {},
     "output_type": "execute_result"
    }
   ],
   "source": [
    "df1.head()"
   ]
  },
  {
   "cell_type": "markdown",
   "metadata": {},
   "source": [
    "# 2 - More Feature Engineering and Data Transformations\n",
    "\n",
    "## 2.1 - Let's create some extra features to address this problem"
   ]
  },
  {
   "cell_type": "markdown",
   "metadata": {},
   "source": [
    "Calculate the mean of direct cost"
   ]
  },
  {
   "cell_type": "code",
   "execution_count": 5,
   "metadata": {},
   "outputs": [],
   "source": [
    "# mean_clicks = df1.groupby(['campaign_id'])['direct_cost_no_out'].mean().reset_index().rename(columns={'direct_cost_no_out':'mean_direct_cost'})\n",
    "mean_clicks = df1.groupby(['campaign_id'])['direct_cost'].mean().reset_index().rename(columns={'direct_cost':'mean_direct_cost'})\n",
    "\n",
    "df1 = df1.merge(mean_clicks)\n",
    "\n",
    "del mean_clicks"
   ]
  },
  {
   "cell_type": "markdown",
   "metadata": {},
   "source": [
    "Create a feature to summarize the click variance for each campaign"
   ]
  },
  {
   "cell_type": "code",
   "execution_count": 6,
   "metadata": {},
   "outputs": [],
   "source": [
    "df1['delta_clicks'] = df1.groupby(['campaign_id'])['direct_clicks'].diff().rename(columns={'direct_clicks':'delta_clicks'})\n",
    "\n",
    "mean_delta_clicks = df1.groupby(['campaign_id'])['delta_clicks'].mean().reset_index().rename(columns={'delta_clicks':'mean_delta_clicks'})\n",
    "\n",
    "df1 = df1.merge(mean_delta_clicks)"
   ]
  },
  {
   "cell_type": "code",
   "execution_count": 7,
   "metadata": {},
   "outputs": [],
   "source": [
    "del mean_delta_clicks"
   ]
  },
  {
   "cell_type": "markdown",
   "metadata": {},
   "source": [
    "Calculate the mean of click"
   ]
  },
  {
   "cell_type": "code",
   "execution_count": 8,
   "metadata": {},
   "outputs": [],
   "source": [
    "mean_clicks = df1.groupby(['campaign_id'])['direct_clicks'].mean().reset_index().rename(columns={'direct_clicks':'mean_direct_clicks'})\n",
    "\n",
    "df1 = df1.merge(mean_clicks)\n",
    "\n",
    "del mean_clicks"
   ]
  },
  {
   "cell_type": "markdown",
   "metadata": {},
   "source": [
    "## 2.2 - Final data transformations"
   ]
  },
  {
   "cell_type": "code",
   "execution_count": 10,
   "metadata": {},
   "outputs": [
    {
     "data": {
      "text/html": [
       "<div>\n",
       "<style scoped>\n",
       "    .dataframe tbody tr th:only-of-type {\n",
       "        vertical-align: middle;\n",
       "    }\n",
       "\n",
       "    .dataframe tbody tr th {\n",
       "        vertical-align: top;\n",
       "    }\n",
       "\n",
       "    .dataframe thead th {\n",
       "        text-align: right;\n",
       "    }\n",
       "</style>\n",
       "<table border=\"1\" class=\"dataframe\">\n",
       "  <thead>\n",
       "    <tr style=\"text-align: right;\">\n",
       "      <th></th>\n",
       "      <th>hotel_id</th>\n",
       "      <th>locale</th>\n",
       "      <th>city</th>\n",
       "      <th>country</th>\n",
       "      <th>abc_category</th>\n",
       "      <th>stars</th>\n",
       "      <th>rating</th>\n",
       "      <th>direct_cost</th>\n",
       "      <th>other_cost</th>\n",
       "      <th>direct_clicks</th>\n",
       "      <th>...</th>\n",
       "      <th>campaign_end</th>\n",
       "      <th>days_till_convert</th>\n",
       "      <th>campaign_duration</th>\n",
       "      <th>other_click_per_campaign</th>\n",
       "      <th>other_bookings_per_campaign</th>\n",
       "      <th>other_booking_value_per_campaign</th>\n",
       "      <th>mean_direct_cost</th>\n",
       "      <th>delta_clicks</th>\n",
       "      <th>mean_delta_clicks</th>\n",
       "      <th>mean_direct_clicks</th>\n",
       "    </tr>\n",
       "  </thead>\n",
       "  <tbody>\n",
       "    <tr>\n",
       "      <th>107626</th>\n",
       "      <td>258366</td>\n",
       "      <td>US</td>\n",
       "      <td>Monemvasia</td>\n",
       "      <td>Greece</td>\n",
       "      <td>C2</td>\n",
       "      <td>3</td>\n",
       "      <td>7972</td>\n",
       "      <td>0</td>\n",
       "      <td>0</td>\n",
       "      <td>0</td>\n",
       "      <td>...</td>\n",
       "      <td>2019-03-30</td>\n",
       "      <td>60</td>\n",
       "      <td>87</td>\n",
       "      <td>1</td>\n",
       "      <td>0</td>\n",
       "      <td>0.0</td>\n",
       "      <td>26.938776</td>\n",
       "      <td>0.0</td>\n",
       "      <td>-0.020833</td>\n",
       "      <td>0.183673</td>\n",
       "    </tr>\n",
       "    <tr>\n",
       "      <th>107627</th>\n",
       "      <td>258366</td>\n",
       "      <td>US</td>\n",
       "      <td>Monemvasia</td>\n",
       "      <td>Greece</td>\n",
       "      <td>C2</td>\n",
       "      <td>3</td>\n",
       "      <td>7972</td>\n",
       "      <td>0</td>\n",
       "      <td>0</td>\n",
       "      <td>0</td>\n",
       "      <td>...</td>\n",
       "      <td>2019-03-30</td>\n",
       "      <td>60</td>\n",
       "      <td>87</td>\n",
       "      <td>1</td>\n",
       "      <td>0</td>\n",
       "      <td>0.0</td>\n",
       "      <td>26.938776</td>\n",
       "      <td>0.0</td>\n",
       "      <td>-0.020833</td>\n",
       "      <td>0.183673</td>\n",
       "    </tr>\n",
       "    <tr>\n",
       "      <th>107628</th>\n",
       "      <td>258366</td>\n",
       "      <td>US</td>\n",
       "      <td>Monemvasia</td>\n",
       "      <td>Greece</td>\n",
       "      <td>C2</td>\n",
       "      <td>3</td>\n",
       "      <td>7972</td>\n",
       "      <td>0</td>\n",
       "      <td>0</td>\n",
       "      <td>0</td>\n",
       "      <td>...</td>\n",
       "      <td>2019-03-30</td>\n",
       "      <td>60</td>\n",
       "      <td>87</td>\n",
       "      <td>1</td>\n",
       "      <td>0</td>\n",
       "      <td>0.0</td>\n",
       "      <td>26.938776</td>\n",
       "      <td>0.0</td>\n",
       "      <td>-0.020833</td>\n",
       "      <td>0.183673</td>\n",
       "    </tr>\n",
       "    <tr>\n",
       "      <th>107629</th>\n",
       "      <td>258366</td>\n",
       "      <td>US</td>\n",
       "      <td>Monemvasia</td>\n",
       "      <td>Greece</td>\n",
       "      <td>C2</td>\n",
       "      <td>3</td>\n",
       "      <td>7972</td>\n",
       "      <td>0</td>\n",
       "      <td>0</td>\n",
       "      <td>0</td>\n",
       "      <td>...</td>\n",
       "      <td>2019-03-30</td>\n",
       "      <td>60</td>\n",
       "      <td>87</td>\n",
       "      <td>1</td>\n",
       "      <td>0</td>\n",
       "      <td>0.0</td>\n",
       "      <td>26.938776</td>\n",
       "      <td>0.0</td>\n",
       "      <td>-0.020833</td>\n",
       "      <td>0.183673</td>\n",
       "    </tr>\n",
       "    <tr>\n",
       "      <th>107630</th>\n",
       "      <td>258366</td>\n",
       "      <td>US</td>\n",
       "      <td>Monemvasia</td>\n",
       "      <td>Greece</td>\n",
       "      <td>C2</td>\n",
       "      <td>3</td>\n",
       "      <td>7972</td>\n",
       "      <td>0</td>\n",
       "      <td>0</td>\n",
       "      <td>0</td>\n",
       "      <td>...</td>\n",
       "      <td>2019-03-30</td>\n",
       "      <td>60</td>\n",
       "      <td>87</td>\n",
       "      <td>1</td>\n",
       "      <td>0</td>\n",
       "      <td>0.0</td>\n",
       "      <td>26.938776</td>\n",
       "      <td>0.0</td>\n",
       "      <td>-0.020833</td>\n",
       "      <td>0.183673</td>\n",
       "    </tr>\n",
       "  </tbody>\n",
       "</table>\n",
       "<p>5 rows × 36 columns</p>\n",
       "</div>"
      ],
      "text/plain": [
       "        hotel_id locale        city country abc_category  stars rating  \\\n",
       "107626    258366     US  Monemvasia  Greece           C2      3   7972   \n",
       "107627    258366     US  Monemvasia  Greece           C2      3   7972   \n",
       "107628    258366     US  Monemvasia  Greece           C2      3   7972   \n",
       "107629    258366     US  Monemvasia  Greece           C2      3   7972   \n",
       "107630    258366     US  Monemvasia  Greece           C2      3   7972   \n",
       "\n",
       "        direct_cost  other_cost  direct_clicks  ...  campaign_end  \\\n",
       "107626            0           0              0  ...    2019-03-30   \n",
       "107627            0           0              0  ...    2019-03-30   \n",
       "107628            0           0              0  ...    2019-03-30   \n",
       "107629            0           0              0  ...    2019-03-30   \n",
       "107630            0           0              0  ...    2019-03-30   \n",
       "\n",
       "        days_till_convert  campaign_duration  other_click_per_campaign  \\\n",
       "107626                 60                 87                         1   \n",
       "107627                 60                 87                         1   \n",
       "107628                 60                 87                         1   \n",
       "107629                 60                 87                         1   \n",
       "107630                 60                 87                         1   \n",
       "\n",
       "        other_bookings_per_campaign other_booking_value_per_campaign  \\\n",
       "107626                            0                              0.0   \n",
       "107627                            0                              0.0   \n",
       "107628                            0                              0.0   \n",
       "107629                            0                              0.0   \n",
       "107630                            0                              0.0   \n",
       "\n",
       "        mean_direct_cost  delta_clicks  mean_delta_clicks  mean_direct_clicks  \n",
       "107626         26.938776           0.0          -0.020833            0.183673  \n",
       "107627         26.938776           0.0          -0.020833            0.183673  \n",
       "107628         26.938776           0.0          -0.020833            0.183673  \n",
       "107629         26.938776           0.0          -0.020833            0.183673  \n",
       "107630         26.938776           0.0          -0.020833            0.183673  \n",
       "\n",
       "[5 rows x 36 columns]"
      ]
     },
     "execution_count": 10,
     "metadata": {},
     "output_type": "execute_result"
    }
   ],
   "source": [
    "df1.tail()"
   ]
  },
  {
   "cell_type": "code",
   "execution_count": 11,
   "metadata": {},
   "outputs": [
    {
     "data": {
      "text/plain": [
       "count     107631\n",
       "unique       729\n",
       "top         8149\n",
       "freq         990\n",
       "Name: rating, dtype: object"
      ]
     },
     "execution_count": 11,
     "metadata": {},
     "output_type": "execute_result"
    }
   ],
   "source": [
    "df1['rating'].describe()"
   ]
  },
  {
   "cell_type": "markdown",
   "metadata": {},
   "source": [
    "**rating**"
   ]
  },
  {
   "cell_type": "code",
   "execution_count": 35,
   "metadata": {},
   "outputs": [],
   "source": [
    "# set rating to numeric, and those values that are null, I will insert rating = 7401, cause it's the most frequent rating value\n",
    "df1['rating'] = df1['rating'].apply(lambda x: int(x) if x != '\\\\N' else 7401)\n"
   ]
  },
  {
   "cell_type": "code",
   "execution_count": 36,
   "metadata": {},
   "outputs": [],
   "source": [
    "base_df = df1[['campaign_id', 'locale', 'city', 'country', \n",
    "               'abc_category', 'stars','direct_cost_per_campaign',\n",
    "               'direct_booking_value_per_campaign',\n",
    "               'direct_clicks_per_campaign', 'bvpc',\n",
    "               'first_conv_click', 'days_till_convert', \n",
    "               'campaign_duration', 'other_click_per_campaign', \n",
    "               'other_bookings_per_campaign', 'other_booking_value_per_campaign', \n",
    "               'mean_direct_cost', 'mean_delta_clicks','mean_direct_clicks','rating']]"
   ]
  },
  {
   "cell_type": "code",
   "execution_count": 37,
   "metadata": {},
   "outputs": [],
   "source": [
    "base_df = base_df.drop_duplicates()"
   ]
  },
  {
   "cell_type": "markdown",
   "metadata": {},
   "source": [
    "**Target distribution**:\n",
    "\n",
    " Regression models does not require the prediction variables to be ‘normally distributed’ meaning the model will not break and still produce a true output."
   ]
  },
  {
   "cell_type": "code",
   "execution_count": 38,
   "metadata": {},
   "outputs": [
    {
     "data": {
      "text/plain": [
       "<matplotlib.axes._subplots.AxesSubplot at 0x7ff9ac1a09e8>"
      ]
     },
     "execution_count": 38,
     "metadata": {},
     "output_type": "execute_result"
    },
    {
     "data": {
      "image/png": "[encoded data removed]",
      "text/plain": [
       "<Figure size 432x288 with 1 Axes>"
      ]
     },
     "metadata": {
      "needs_background": "light"
     },
     "output_type": "display_data"
    }
   ],
   "source": [
    "sns.distplot(base_df['bvpc'])"
   ]
  },
  {
   "cell_type": "markdown",
   "metadata": {},
   "source": [
    "**Correlation with target**:\n",
    "\n",
    "Surprisingly, the number of clicks does not have a signifcant correlation with the target"
   ]
  },
  {
   "cell_type": "code",
   "execution_count": 39,
   "metadata": {},
   "outputs": [
    {
     "data": {
      "text/html": [
       "<div>\n",
       "<style scoped>\n",
       "    .dataframe tbody tr th:only-of-type {\n",
       "        vertical-align: middle;\n",
       "    }\n",
       "\n",
       "    .dataframe tbody tr th {\n",
       "        vertical-align: top;\n",
       "    }\n",
       "\n",
       "    .dataframe thead th {\n",
       "        text-align: right;\n",
       "    }\n",
       "</style>\n",
       "<table border=\"1\" class=\"dataframe\">\n",
       "  <thead>\n",
       "    <tr style=\"text-align: right;\">\n",
       "      <th></th>\n",
       "      <th>bvpc</th>\n",
       "    </tr>\n",
       "  </thead>\n",
       "  <tbody>\n",
       "    <tr>\n",
       "      <th>bvpc</th>\n",
       "      <td>1.000000</td>\n",
       "    </tr>\n",
       "    <tr>\n",
       "      <th>direct_booking_value_per_campaign</th>\n",
       "      <td>0.292359</td>\n",
       "    </tr>\n",
       "    <tr>\n",
       "      <th>rating</th>\n",
       "      <td>0.134011</td>\n",
       "    </tr>\n",
       "    <tr>\n",
       "      <th>direct_cost_per_campaign</th>\n",
       "      <td>0.034934</td>\n",
       "    </tr>\n",
       "    <tr>\n",
       "      <th>other_booking_value_per_campaign</th>\n",
       "      <td>0.034408</td>\n",
       "    </tr>\n",
       "    <tr>\n",
       "      <th>mean_direct_cost</th>\n",
       "      <td>0.031890</td>\n",
       "    </tr>\n",
       "    <tr>\n",
       "      <th>stars</th>\n",
       "      <td>0.022719</td>\n",
       "    </tr>\n",
       "    <tr>\n",
       "      <th>campaign_duration</th>\n",
       "      <td>-0.004593</td>\n",
       "    </tr>\n",
       "    <tr>\n",
       "      <th>other_bookings_per_campaign</th>\n",
       "      <td>-0.043382</td>\n",
       "    </tr>\n",
       "    <tr>\n",
       "      <th>mean_delta_clicks</th>\n",
       "      <td>-0.047402</td>\n",
       "    </tr>\n",
       "    <tr>\n",
       "      <th>other_click_per_campaign</th>\n",
       "      <td>-0.099509</td>\n",
       "    </tr>\n",
       "    <tr>\n",
       "      <th>days_till_convert</th>\n",
       "      <td>-0.115208</td>\n",
       "    </tr>\n",
       "    <tr>\n",
       "      <th>direct_clicks_per_campaign</th>\n",
       "      <td>-0.130597</td>\n",
       "    </tr>\n",
       "    <tr>\n",
       "      <th>mean_direct_clicks</th>\n",
       "      <td>-0.133738</td>\n",
       "    </tr>\n",
       "    <tr>\n",
       "      <th>first_conv_click</th>\n",
       "      <td>-0.254901</td>\n",
       "    </tr>\n",
       "  </tbody>\n",
       "</table>\n",
       "</div>"
      ],
      "text/plain": [
       "                                       bvpc\n",
       "bvpc                               1.000000\n",
       "direct_booking_value_per_campaign  0.292359\n",
       "rating                             0.134011\n",
       "direct_cost_per_campaign           0.034934\n",
       "other_booking_value_per_campaign   0.034408\n",
       "mean_direct_cost                   0.031890\n",
       "stars                              0.022719\n",
       "campaign_duration                 -0.004593\n",
       "other_bookings_per_campaign       -0.043382\n",
       "mean_delta_clicks                 -0.047402\n",
       "other_click_per_campaign          -0.099509\n",
       "days_till_convert                 -0.115208\n",
       "direct_clicks_per_campaign        -0.130597\n",
       "mean_direct_clicks                -0.133738\n",
       "first_conv_click                  -0.254901"
      ]
     },
     "execution_count": 39,
     "metadata": {},
     "output_type": "execute_result"
    }
   ],
   "source": [
    "train_num = base_df._get_numeric_data()\n",
    "train_num = base_df.columns\n",
    "\n",
    "# I will exclude cpc_exp cause this field was calculated using bvpc column\n",
    "train_num_corr = base_df[train_num].drop(['campaign_id'], axis=1)\n",
    "corr = pd.DataFrame(train_num_corr.corr(method = 'pearson')['bvpc'])\n",
    "corr.sort_values(['bvpc'], ascending= False)"
   ]
  },
  {
   "cell_type": "markdown",
   "metadata": {},
   "source": [
    "## 2.3 - Get dummies and Train/Test Split"
   ]
  },
  {
   "cell_type": "code",
   "execution_count": 41,
   "metadata": {},
   "outputs": [],
   "source": [
    "dff = base_df.drop(columns=['campaign_id'])\n",
    "\n",
    "dff = pd.get_dummies(dff, columns=['locale','city','country','abc_category'])"
   ]
  },
  {
   "cell_type": "code",
   "execution_count": 42,
   "metadata": {},
   "outputs": [],
   "source": [
    "X = dff.drop(columns=['bvpc'])\n",
    "\n",
    "# Select our target/dependent variable\n",
    "y = dff['bvpc']\n",
    "\n",
    "# Split the data into training/testing sets\n",
    "X_train, X_test, y_train, y_test = train_test_split(X, y, \n",
    "                                                    test_size=0.33, random_state=42)"
   ]
  },
  {
   "cell_type": "markdown",
   "metadata": {},
   "source": [
    "After selecting our target population and applying multiple aggregations, our dataset is not very big."
   ]
  },
  {
   "cell_type": "code",
   "execution_count": 43,
   "metadata": {},
   "outputs": [
    {
     "data": {
      "text/plain": [
       "827"
      ]
     },
     "execution_count": 43,
     "metadata": {},
     "output_type": "execute_result"
    }
   ],
   "source": [
    "len(X_train)"
   ]
  },
  {
   "cell_type": "markdown",
   "metadata": {},
   "source": [
    "# 3 - Start Modeling (baseline)\n",
    "\n",
    "As we were dealing with a small volume dataset, I decided to use regularization methods to avoid overfitting. \n",
    "\n",
    "I also used GridSearchCV to find the best parameters for each model.\n",
    "\n",
    "On both **Ridge and Lasso** regression, many coefficients were set to zero."
   ]
  },
  {
   "cell_type": "markdown",
   "metadata": {},
   "source": [
    "## 3.1 - Ridge"
   ]
  },
  {
   "cell_type": "code",
   "execution_count": 68,
   "metadata": {},
   "outputs": [
    {
     "name": "stdout",
     "output_type": "stream",
     "text": [
      "Fitting 5 folds for each of 3 candidates, totalling 15 fits\n"
     ]
    },
    {
     "name": "stderr",
     "output_type": "stream",
     "text": [
      "[Parallel(n_jobs=1)]: Using backend SequentialBackend with 1 concurrent workers.\n"
     ]
    },
    {
     "name": "stdout",
     "output_type": "stream",
     "text": [
      "{'alpha': 1}\n",
      "ridge absolute error:  1.1986076546616728\n",
      "ridge squared error:  2.8710430526414163\n",
      "0.5862089482932248\n"
     ]
    },
    {
     "name": "stderr",
     "output_type": "stream",
     "text": [
      "[Parallel(n_jobs=1)]: Done  15 out of  15 | elapsed:    0.3s finished\n"
     ]
    }
   ],
   "source": [
    "# verbose_level=10\n",
    "from sklearn.model_selection import GridSearchCV\n",
    "\n",
    "verbose_level=1\n",
    "\n",
    "regr_ridge = GridSearchCV(Ridge(), cv=5, verbose=verbose_level,\n",
    "                  param_grid={\"alpha\": [ 10,1,0.1]})\n",
    "\n",
    "regr_ridge.fit(X_train, y_train)\n",
    "y_pred = regr_ridge.predict(X_test)\n",
    "print(regr_ridge.best_params_);\n",
    "\n",
    "# model evaluation\n",
    "print ('ridge absolute error: ', mean_absolute_error(y_test, y_pred))\n",
    "print ('ridge squared error: ',mean_squared_error(y_test, y_pred))\n",
    "\n",
    "print(regr_ridge.best_score_)"
   ]
  },
  {
   "cell_type": "code",
   "execution_count": 89,
   "metadata": {},
   "outputs": [],
   "source": [
    "feature_list = list(X_train.columns)\n",
    "\n",
    "importances = list(regr_ridge.best_estimator_.coef_)\n",
    "\n",
    "feature_importances_rd = [[feature, round(importance, 2)] for feature, importance in zip(feature_list, importances)]\n",
    "# Sort the feature importances by most important first\n",
    "feature_importances_rd = sorted(feature_importances_rd, key = lambda x: x[1], reverse = True)\n",
    "\n",
    "feature_importances_rd = pd.DataFrame(feature_importances_rd).rename(columns={0:'feature',1:'coefs_ridge'})"
   ]
  },
  {
   "cell_type": "markdown",
   "metadata": {},
   "source": [
    "## 3.2 - Lasso"
   ]
  },
  {
   "cell_type": "code",
   "execution_count": 73,
   "metadata": {},
   "outputs": [
    {
     "name": "stdout",
     "output_type": "stream",
     "text": [
      "Fitting 2 folds for each of 9 candidates, totalling 18 fits\n"
     ]
    },
    {
     "name": "stderr",
     "output_type": "stream",
     "text": [
      "[Parallel(n_jobs=1)]: Using backend SequentialBackend with 1 concurrent workers.\n",
      "/usr/local/lib/python3.5/dist-packages/sklearn/linear_model/coordinate_descent.py:492: ConvergenceWarning: Objective did not converge. You might want to increase the number of iterations. Fitting data with very small alpha may cause precision problems.\n",
      "  ConvergenceWarning)\n",
      "/usr/local/lib/python3.5/dist-packages/sklearn/linear_model/coordinate_descent.py:492: ConvergenceWarning: Objective did not converge. You might want to increase the number of iterations. Fitting data with very small alpha may cause precision problems.\n",
      "  ConvergenceWarning)\n",
      "/usr/local/lib/python3.5/dist-packages/sklearn/linear_model/coordinate_descent.py:492: ConvergenceWarning: Objective did not converge. You might want to increase the number of iterations. Fitting data with very small alpha may cause precision problems.\n",
      "  ConvergenceWarning)\n",
      "/usr/local/lib/python3.5/dist-packages/sklearn/linear_model/coordinate_descent.py:492: ConvergenceWarning: Objective did not converge. You might want to increase the number of iterations. Fitting data with very small alpha may cause precision problems.\n",
      "  ConvergenceWarning)\n",
      "/usr/local/lib/python3.5/dist-packages/sklearn/linear_model/coordinate_descent.py:492: ConvergenceWarning: Objective did not converge. You might want to increase the number of iterations. Fitting data with very small alpha may cause precision problems.\n",
      "  ConvergenceWarning)\n",
      "/usr/local/lib/python3.5/dist-packages/sklearn/linear_model/coordinate_descent.py:492: ConvergenceWarning: Objective did not converge. You might want to increase the number of iterations. Fitting data with very small alpha may cause precision problems.\n",
      "  ConvergenceWarning)\n",
      "/usr/local/lib/python3.5/dist-packages/sklearn/linear_model/coordinate_descent.py:492: ConvergenceWarning: Objective did not converge. You might want to increase the number of iterations. Fitting data with very small alpha may cause precision problems.\n",
      "  ConvergenceWarning)\n",
      "/usr/local/lib/python3.5/dist-packages/sklearn/linear_model/coordinate_descent.py:492: ConvergenceWarning: Objective did not converge. You might want to increase the number of iterations. Fitting data with very small alpha may cause precision problems.\n",
      "  ConvergenceWarning)\n",
      "/usr/local/lib/python3.5/dist-packages/sklearn/linear_model/coordinate_descent.py:492: ConvergenceWarning: Objective did not converge. You might want to increase the number of iterations. Fitting data with very small alpha may cause precision problems.\n",
      "  ConvergenceWarning)\n",
      "/usr/local/lib/python3.5/dist-packages/sklearn/linear_model/coordinate_descent.py:492: ConvergenceWarning: Objective did not converge. You might want to increase the number of iterations. Fitting data with very small alpha may cause precision problems.\n",
      "  ConvergenceWarning)\n",
      "/usr/local/lib/python3.5/dist-packages/sklearn/linear_model/coordinate_descent.py:492: ConvergenceWarning: Objective did not converge. You might want to increase the number of iterations. Fitting data with very small alpha may cause precision problems.\n",
      "  ConvergenceWarning)\n",
      "/usr/local/lib/python3.5/dist-packages/sklearn/linear_model/coordinate_descent.py:492: ConvergenceWarning: Objective did not converge. You might want to increase the number of iterations. Fitting data with very small alpha may cause precision problems.\n",
      "  ConvergenceWarning)\n",
      "[Parallel(n_jobs=1)]: Done  18 out of  18 | elapsed:    8.4s finished\n"
     ]
    },
    {
     "name": "stdout",
     "output_type": "stream",
     "text": [
      "{'alpha': 0.01}\n",
      "Lasso absolute error:  1.2426145025543829\n",
      "Lasso squared error:  3.045063524741719\n",
      "0.5932960093823834\n"
     ]
    },
    {
     "name": "stderr",
     "output_type": "stream",
     "text": [
      "/usr/local/lib/python3.5/dist-packages/sklearn/linear_model/coordinate_descent.py:492: ConvergenceWarning: Objective did not converge. You might want to increase the number of iterations. Fitting data with very small alpha may cause precision problems.\n",
      "  ConvergenceWarning)\n"
     ]
    }
   ],
   "source": [
    "from sklearn.linear_model import Lasso\n",
    "\n",
    "regr_ls = GridSearchCV(Lasso(), cv=2, verbose=verbose_level,\n",
    "                  param_grid={\"alpha\": [1e-15, 0.04, 1e-10, 1e-8, 1e-4, 1e-3, 1e-2, 1, 5]})\n",
    "\n",
    "regr_ls.fit(X_train, y_train)\n",
    "y_pred = regr_ls.predict(X_test)\n",
    "print(regr_ls.best_params_);\n",
    "\n",
    "# model evaluation\n",
    "print ('Lasso absolute error: ', mean_absolute_error(y_test, y_pred))\n",
    "print ('Lasso squared error: ',mean_squared_error(y_test, y_pred))\n",
    "\n",
    "\n",
    "print(regr_ls.best_score_)"
   ]
  },
  {
   "cell_type": "code",
   "execution_count": 87,
   "metadata": {},
   "outputs": [],
   "source": [
    "feature_list = list(X_train.columns)\n",
    "\n",
    "importances = list(regr_ls.best_estimator_.coef_)\n",
    "\n",
    "feature_importances_ls = [[feature, round(importance, 2)] for feature, importance in zip(feature_list, importances)]\n",
    "# Sort the feature importances by most important first\n",
    "feature_importances_ls = sorted(feature_importances_ls, key = lambda x: x[1], reverse = True)\n",
    "\n",
    "feature_importances_ls = pd.DataFrame(feature_importances_ls).rename(columns={0:'feature',1:'coefs_lasso'})"
   ]
  },
  {
   "cell_type": "markdown",
   "metadata": {},
   "source": [
    "## 3.3 - Random Forest"
   ]
  },
  {
   "cell_type": "code",
   "execution_count": 75,
   "metadata": {},
   "outputs": [
    {
     "name": "stderr",
     "output_type": "stream",
     "text": [
      "/usr/local/lib/python3.5/dist-packages/sklearn/ensemble/forest.py:246: FutureWarning: The default value of n_estimators will change from 10 in version 0.20 to 100 in 0.22.\n",
      "  \"10 in version 0.20 to 100 in 0.22.\", FutureWarning)\n",
      "/usr/local/lib/python3.5/dist-packages/sklearn/ensemble/forest.py:246: FutureWarning: The default value of n_estimators will change from 10 in version 0.20 to 100 in 0.22.\n",
      "  \"10 in version 0.20 to 100 in 0.22.\", FutureWarning)\n",
      "/usr/local/lib/python3.5/dist-packages/sklearn/ensemble/forest.py:246: FutureWarning: The default value of n_estimators will change from 10 in version 0.20 to 100 in 0.22.\n",
      "  \"10 in version 0.20 to 100 in 0.22.\", FutureWarning)\n",
      "/usr/local/lib/python3.5/dist-packages/sklearn/ensemble/forest.py:246: FutureWarning: The default value of n_estimators will change from 10 in version 0.20 to 100 in 0.22.\n",
      "  \"10 in version 0.20 to 100 in 0.22.\", FutureWarning)\n",
      "/usr/local/lib/python3.5/dist-packages/sklearn/ensemble/forest.py:246: FutureWarning: The default value of n_estimators will change from 10 in version 0.20 to 100 in 0.22.\n",
      "  \"10 in version 0.20 to 100 in 0.22.\", FutureWarning)\n",
      "/usr/local/lib/python3.5/dist-packages/sklearn/ensemble/forest.py:246: FutureWarning: The default value of n_estimators will change from 10 in version 0.20 to 100 in 0.22.\n",
      "  \"10 in version 0.20 to 100 in 0.22.\", FutureWarning)\n",
      "/usr/local/lib/python3.5/dist-packages/sklearn/ensemble/forest.py:246: FutureWarning: The default value of n_estimators will change from 10 in version 0.20 to 100 in 0.22.\n",
      "  \"10 in version 0.20 to 100 in 0.22.\", FutureWarning)\n",
      "/usr/local/lib/python3.5/dist-packages/sklearn/ensemble/forest.py:246: FutureWarning: The default value of n_estimators will change from 10 in version 0.20 to 100 in 0.22.\n",
      "  \"10 in version 0.20 to 100 in 0.22.\", FutureWarning)\n",
      "/usr/local/lib/python3.5/dist-packages/sklearn/ensemble/forest.py:246: FutureWarning: The default value of n_estimators will change from 10 in version 0.20 to 100 in 0.22.\n",
      "  \"10 in version 0.20 to 100 in 0.22.\", FutureWarning)\n",
      "/usr/local/lib/python3.5/dist-packages/sklearn/ensemble/forest.py:246: FutureWarning: The default value of n_estimators will change from 10 in version 0.20 to 100 in 0.22.\n",
      "  \"10 in version 0.20 to 100 in 0.22.\", FutureWarning)\n",
      "/usr/local/lib/python3.5/dist-packages/sklearn/ensemble/forest.py:246: FutureWarning: The default value of n_estimators will change from 10 in version 0.20 to 100 in 0.22.\n",
      "  \"10 in version 0.20 to 100 in 0.22.\", FutureWarning)\n",
      "/usr/local/lib/python3.5/dist-packages/sklearn/ensemble/forest.py:246: FutureWarning: The default value of n_estimators will change from 10 in version 0.20 to 100 in 0.22.\n",
      "  \"10 in version 0.20 to 100 in 0.22.\", FutureWarning)\n",
      "/usr/local/lib/python3.5/dist-packages/sklearn/ensemble/forest.py:246: FutureWarning: The default value of n_estimators will change from 10 in version 0.20 to 100 in 0.22.\n",
      "  \"10 in version 0.20 to 100 in 0.22.\", FutureWarning)\n",
      "/usr/local/lib/python3.5/dist-packages/sklearn/ensemble/forest.py:246: FutureWarning: The default value of n_estimators will change from 10 in version 0.20 to 100 in 0.22.\n",
      "  \"10 in version 0.20 to 100 in 0.22.\", FutureWarning)\n",
      "/usr/local/lib/python3.5/dist-packages/sklearn/ensemble/forest.py:246: FutureWarning: The default value of n_estimators will change from 10 in version 0.20 to 100 in 0.22.\n",
      "  \"10 in version 0.20 to 100 in 0.22.\", FutureWarning)\n",
      "/usr/local/lib/python3.5/dist-packages/sklearn/ensemble/forest.py:246: FutureWarning: The default value of n_estimators will change from 10 in version 0.20 to 100 in 0.22.\n",
      "  \"10 in version 0.20 to 100 in 0.22.\", FutureWarning)\n",
      "/usr/local/lib/python3.5/dist-packages/sklearn/ensemble/forest.py:246: FutureWarning: The default value of n_estimators will change from 10 in version 0.20 to 100 in 0.22.\n",
      "  \"10 in version 0.20 to 100 in 0.22.\", FutureWarning)\n",
      "/usr/local/lib/python3.5/dist-packages/sklearn/ensemble/forest.py:246: FutureWarning: The default value of n_estimators will change from 10 in version 0.20 to 100 in 0.22.\n",
      "  \"10 in version 0.20 to 100 in 0.22.\", FutureWarning)\n",
      "/usr/local/lib/python3.5/dist-packages/sklearn/ensemble/forest.py:246: FutureWarning: The default value of n_estimators will change from 10 in version 0.20 to 100 in 0.22.\n",
      "  \"10 in version 0.20 to 100 in 0.22.\", FutureWarning)\n",
      "/usr/local/lib/python3.5/dist-packages/sklearn/ensemble/forest.py:246: FutureWarning: The default value of n_estimators will change from 10 in version 0.20 to 100 in 0.22.\n",
      "  \"10 in version 0.20 to 100 in 0.22.\", FutureWarning)\n",
      "/usr/local/lib/python3.5/dist-packages/sklearn/ensemble/forest.py:246: FutureWarning: The default value of n_estimators will change from 10 in version 0.20 to 100 in 0.22.\n",
      "  \"10 in version 0.20 to 100 in 0.22.\", FutureWarning)\n",
      "/usr/local/lib/python3.5/dist-packages/sklearn/ensemble/forest.py:246: FutureWarning: The default value of n_estimators will change from 10 in version 0.20 to 100 in 0.22.\n",
      "  \"10 in version 0.20 to 100 in 0.22.\", FutureWarning)\n",
      "/usr/local/lib/python3.5/dist-packages/sklearn/ensemble/forest.py:246: FutureWarning: The default value of n_estimators will change from 10 in version 0.20 to 100 in 0.22.\n",
      "  \"10 in version 0.20 to 100 in 0.22.\", FutureWarning)\n",
      "/usr/local/lib/python3.5/dist-packages/sklearn/ensemble/forest.py:246: FutureWarning: The default value of n_estimators will change from 10 in version 0.20 to 100 in 0.22.\n",
      "  \"10 in version 0.20 to 100 in 0.22.\", FutureWarning)\n",
      "/usr/local/lib/python3.5/dist-packages/sklearn/ensemble/forest.py:246: FutureWarning: The default value of n_estimators will change from 10 in version 0.20 to 100 in 0.22.\n",
      "  \"10 in version 0.20 to 100 in 0.22.\", FutureWarning)\n",
      "/usr/local/lib/python3.5/dist-packages/sklearn/ensemble/forest.py:246: FutureWarning: The default value of n_estimators will change from 10 in version 0.20 to 100 in 0.22.\n",
      "  \"10 in version 0.20 to 100 in 0.22.\", FutureWarning)\n",
      "/usr/local/lib/python3.5/dist-packages/sklearn/ensemble/forest.py:246: FutureWarning: The default value of n_estimators will change from 10 in version 0.20 to 100 in 0.22.\n",
      "  \"10 in version 0.20 to 100 in 0.22.\", FutureWarning)\n",
      "/usr/local/lib/python3.5/dist-packages/sklearn/ensemble/forest.py:246: FutureWarning: The default value of n_estimators will change from 10 in version 0.20 to 100 in 0.22.\n",
      "  \"10 in version 0.20 to 100 in 0.22.\", FutureWarning)\n",
      "/usr/local/lib/python3.5/dist-packages/sklearn/ensemble/forest.py:246: FutureWarning: The default value of n_estimators will change from 10 in version 0.20 to 100 in 0.22.\n",
      "  \"10 in version 0.20 to 100 in 0.22.\", FutureWarning)\n",
      "/usr/local/lib/python3.5/dist-packages/sklearn/ensemble/forest.py:246: FutureWarning: The default value of n_estimators will change from 10 in version 0.20 to 100 in 0.22.\n",
      "  \"10 in version 0.20 to 100 in 0.22.\", FutureWarning)\n",
      "/usr/local/lib/python3.5/dist-packages/sklearn/ensemble/forest.py:246: FutureWarning: The default value of n_estimators will change from 10 in version 0.20 to 100 in 0.22.\n",
      "  \"10 in version 0.20 to 100 in 0.22.\", FutureWarning)\n"
     ]
    },
    {
     "name": "stdout",
     "output_type": "stream",
     "text": [
      "{'max_depth': 8}\n",
      "Random Forest absolute error:  0.3988056368272475\n",
      "Random Forest squared error:  0.5881630467269338\n",
      "0.9079128882760276\n"
     ]
    },
    {
     "name": "stderr",
     "output_type": "stream",
     "text": [
      "/usr/local/lib/python3.5/dist-packages/sklearn/ensemble/forest.py:246: FutureWarning: The default value of n_estimators will change from 10 in version 0.20 to 100 in 0.22.\n",
      "  \"10 in version 0.20 to 100 in 0.22.\", FutureWarning)\n",
      "/usr/local/lib/python3.5/dist-packages/sklearn/ensemble/forest.py:246: FutureWarning: The default value of n_estimators will change from 10 in version 0.20 to 100 in 0.22.\n",
      "  \"10 in version 0.20 to 100 in 0.22.\", FutureWarning)\n"
     ]
    }
   ],
   "source": [
    "from sklearn.ensemble import RandomForestRegressor\n",
    "regr_rf = GridSearchCV(RandomForestRegressor(), cv=4, verbose=0,\n",
    "                  param_grid={\"max_depth\": [2,3,4,5,6,7,8,9]})\n",
    "#regr_dt = DecisionTreeRegressor(max_depth=2)\n",
    "regr_rf.fit(X_train, y_train)\n",
    "y_pred = regr_rf.predict(X_test)\n",
    "print(regr_rf.best_params_);\n",
    "\n",
    "# model evaluation\n",
    "print('Random Forest absolute error: ', mean_absolute_error(y_test, y_pred))\n",
    "print('Random Forest squared error: ',mean_squared_error(y_test, y_pred))\n",
    "\n",
    "print(regr_rf.best_score_)"
   ]
  },
  {
   "cell_type": "code",
   "execution_count": null,
   "metadata": {},
   "outputs": [],
   "source": [
    "col = [‘SepalLengthCm’ ,’SepalWidthCm’ ,’PetalLengthCm’ ,’PetalWidthCm’]\n",
    "#modelname.feature_importance_\n",
    "y = estimator.feature_importances_\n",
    "#plot\n",
    "fig, ax = plt.subplots() \n",
    "width = 0.4 # the width of the bars \n",
    "ind = np.arange(len(y)) # the x locations for the groups\n",
    "ax.barh(ind, y, width, color=”green”)\n",
    "ax.set_yticks(ind+width/10)\n",
    "ax.set_yticklabels(col, minor=False)\n",
    "plt.title(‘Feature importance in RandomForest Classifier’)\n",
    "plt.xlabel(‘Relative importance’)\n",
    "plt.ylabel(‘feature’) \n",
    "plt.figure(figsize=(5,5))\n",
    "fig.set_size_inches(6.5, 4.5, forward=True)"
   ]
  },
  {
   "cell_type": "code",
   "execution_count": 99,
   "metadata": {},
   "outputs": [],
   "source": [
    "feature_list = list(X_train.columns)\n",
    "# Get numerical feature importances\n",
    "importances = list(regr_rf.best_estimator_.feature_importances_)\n",
    "#     regr_rf.feature_importances_)\n",
    "# List of tuples with variable and importance\n",
    "feature_importances_rf = [[feature, round(importance, 2)] for feature, importance in zip(feature_list, importances)]\n",
    "# Sort the feature importances by most important first\n",
    "feature_importances_rf = sorted(feature_importances_rf, key = lambda x: x[1], reverse = True)"
   ]
  },
  {
   "cell_type": "code",
   "execution_count": 100,
   "metadata": {},
   "outputs": [],
   "source": [
    "feature_importances_rf = pd.DataFrame(feature_importances_rf).rename(columns={0:'feature',1:'feature_imp_randfor'})"
   ]
  },
  {
   "cell_type": "code",
   "execution_count": 101,
   "metadata": {},
   "outputs": [],
   "source": [
    "feature_importances_rf = feature_importances_rd.merge(feature_importances_rf, on='feature')\n",
    "feature_importances_rf = feature_importances_ls.merge(feature_importances_rf, on='feature')"
   ]
  },
  {
   "cell_type": "code",
   "execution_count": 116,
   "metadata": {},
   "outputs": [
    {
     "data": {
      "text/html": [
       "<div>\n",
       "<style scoped>\n",
       "    .dataframe tbody tr th:only-of-type {\n",
       "        vertical-align: middle;\n",
       "    }\n",
       "\n",
       "    .dataframe tbody tr th {\n",
       "        vertical-align: top;\n",
       "    }\n",
       "\n",
       "    .dataframe thead th {\n",
       "        text-align: right;\n",
       "    }\n",
       "</style>\n",
       "<table border=\"1\" class=\"dataframe\">\n",
       "  <thead>\n",
       "    <tr style=\"text-align: right;\">\n",
       "      <th></th>\n",
       "      <th>feature</th>\n",
       "      <th>coefs_lasso</th>\n",
       "      <th>coefs_ridge</th>\n",
       "      <th>feature_imp_randfor</th>\n",
       "    </tr>\n",
       "  </thead>\n",
       "  <tbody>\n",
       "    <tr>\n",
       "      <th>0</th>\n",
       "      <td>country_Israel</td>\n",
       "      <td>2.37</td>\n",
       "      <td>2.53</td>\n",
       "      <td>0.01</td>\n",
       "    </tr>\n",
       "    <tr>\n",
       "      <th>1</th>\n",
       "      <td>locale_US</td>\n",
       "      <td>2.26</td>\n",
       "      <td>2.00</td>\n",
       "      <td>0.03</td>\n",
       "    </tr>\n",
       "    <tr>\n",
       "      <th>2</th>\n",
       "      <td>city_Monemvasia</td>\n",
       "      <td>1.71</td>\n",
       "      <td>2.91</td>\n",
       "      <td>0.00</td>\n",
       "    </tr>\n",
       "    <tr>\n",
       "      <th>3</th>\n",
       "      <td>locale_UK</td>\n",
       "      <td>1.64</td>\n",
       "      <td>1.61</td>\n",
       "      <td>0.03</td>\n",
       "    </tr>\n",
       "    <tr>\n",
       "      <th>4</th>\n",
       "      <td>city_Jerusalem</td>\n",
       "      <td>1.51</td>\n",
       "      <td>2.73</td>\n",
       "      <td>0.00</td>\n",
       "    </tr>\n",
       "    <tr>\n",
       "      <th>5</th>\n",
       "      <td>city_Lucca</td>\n",
       "      <td>1.28</td>\n",
       "      <td>2.66</td>\n",
       "      <td>0.00</td>\n",
       "    </tr>\n",
       "    <tr>\n",
       "      <th>6</th>\n",
       "      <td>city_Bassano del Grappa</td>\n",
       "      <td>1.23</td>\n",
       "      <td>1.51</td>\n",
       "      <td>0.00</td>\n",
       "    </tr>\n",
       "    <tr>\n",
       "      <th>7</th>\n",
       "      <td>city_Verbier</td>\n",
       "      <td>1.23</td>\n",
       "      <td>2.68</td>\n",
       "      <td>0.02</td>\n",
       "    </tr>\n",
       "    <tr>\n",
       "      <th>8</th>\n",
       "      <td>city_Athens</td>\n",
       "      <td>1.10</td>\n",
       "      <td>1.92</td>\n",
       "      <td>0.00</td>\n",
       "    </tr>\n",
       "    <tr>\n",
       "      <th>9</th>\n",
       "      <td>country_Switzerland</td>\n",
       "      <td>0.85</td>\n",
       "      <td>1.30</td>\n",
       "      <td>0.00</td>\n",
       "    </tr>\n",
       "  </tbody>\n",
       "</table>\n",
       "</div>"
      ],
      "text/plain": [
       "                   feature  coefs_lasso  coefs_ridge  feature_imp_randfor\n",
       "0           country_Israel         2.37         2.53                 0.01\n",
       "1                locale_US         2.26         2.00                 0.03\n",
       "2          city_Monemvasia         1.71         2.91                 0.00\n",
       "3                locale_UK         1.64         1.61                 0.03\n",
       "4           city_Jerusalem         1.51         2.73                 0.00\n",
       "5               city_Lucca         1.28         2.66                 0.00\n",
       "6  city_Bassano del Grappa         1.23         1.51                 0.00\n",
       "7             city_Verbier         1.23         2.68                 0.02\n",
       "8              city_Athens         1.10         1.92                 0.00\n",
       "9      country_Switzerland         0.85         1.30                 0.00"
      ]
     },
     "execution_count": 116,
     "metadata": {},
     "output_type": "execute_result"
    }
   ],
   "source": [
    "feature_importances_rf.sort_values(by='coefs_lasso', ascending=False)[:10]"
   ]
  },
  {
   "cell_type": "markdown",
   "metadata": {},
   "source": [
    "From this table, we can see that the most important feature to Random Forest regression model was direct_booking_value_per_campaign, and the other 2 models zeroed the coefficient for this feature"
   ]
  },
  {
   "cell_type": "code",
   "execution_count": 117,
   "metadata": {},
   "outputs": [
    {
     "data": {
      "text/html": [
       "<div>\n",
       "<style scoped>\n",
       "    .dataframe tbody tr th:only-of-type {\n",
       "        vertical-align: middle;\n",
       "    }\n",
       "\n",
       "    .dataframe tbody tr th {\n",
       "        vertical-align: top;\n",
       "    }\n",
       "\n",
       "    .dataframe thead th {\n",
       "        text-align: right;\n",
       "    }\n",
       "</style>\n",
       "<table border=\"1\" class=\"dataframe\">\n",
       "  <thead>\n",
       "    <tr style=\"text-align: right;\">\n",
       "      <th></th>\n",
       "      <th>feature</th>\n",
       "      <th>coefs_lasso</th>\n",
       "      <th>coefs_ridge</th>\n",
       "      <th>feature_imp_randfor</th>\n",
       "    </tr>\n",
       "  </thead>\n",
       "  <tbody>\n",
       "    <tr>\n",
       "      <th>21</th>\n",
       "      <td>direct_booking_value_per_campaign</td>\n",
       "      <td>0.00</td>\n",
       "      <td>0.00</td>\n",
       "      <td>0.36</td>\n",
       "    </tr>\n",
       "    <tr>\n",
       "      <th>22</th>\n",
       "      <td>direct_clicks_per_campaign</td>\n",
       "      <td>-0.00</td>\n",
       "      <td>0.00</td>\n",
       "      <td>0.23</td>\n",
       "    </tr>\n",
       "    <tr>\n",
       "      <th>547</th>\n",
       "      <td>mean_direct_clicks</td>\n",
       "      <td>-0.17</td>\n",
       "      <td>-0.46</td>\n",
       "      <td>0.18</td>\n",
       "    </tr>\n",
       "    <tr>\n",
       "      <th>553</th>\n",
       "      <td>locale_IT</td>\n",
       "      <td>-1.22</td>\n",
       "      <td>-1.65</td>\n",
       "      <td>0.03</td>\n",
       "    </tr>\n",
       "    <tr>\n",
       "      <th>3</th>\n",
       "      <td>locale_UK</td>\n",
       "      <td>1.64</td>\n",
       "      <td>1.61</td>\n",
       "      <td>0.03</td>\n",
       "    </tr>\n",
       "    <tr>\n",
       "      <th>1</th>\n",
       "      <td>locale_US</td>\n",
       "      <td>2.26</td>\n",
       "      <td>2.00</td>\n",
       "      <td>0.03</td>\n",
       "    </tr>\n",
       "    <tr>\n",
       "      <th>20</th>\n",
       "      <td>direct_cost_per_campaign</td>\n",
       "      <td>-0.00</td>\n",
       "      <td>-0.00</td>\n",
       "      <td>0.02</td>\n",
       "    </tr>\n",
       "    <tr>\n",
       "      <th>7</th>\n",
       "      <td>city_Verbier</td>\n",
       "      <td>1.23</td>\n",
       "      <td>2.68</td>\n",
       "      <td>0.02</td>\n",
       "    </tr>\n",
       "    <tr>\n",
       "      <th>539</th>\n",
       "      <td>days_till_convert</td>\n",
       "      <td>-0.01</td>\n",
       "      <td>-0.01</td>\n",
       "      <td>0.01</td>\n",
       "    </tr>\n",
       "    <tr>\n",
       "      <th>28</th>\n",
       "      <td>rating</td>\n",
       "      <td>0.00</td>\n",
       "      <td>0.00</td>\n",
       "      <td>0.01</td>\n",
       "    </tr>\n",
       "  </tbody>\n",
       "</table>\n",
       "</div>"
      ],
      "text/plain": [
       "                               feature  coefs_lasso  coefs_ridge  \\\n",
       "21   direct_booking_value_per_campaign         0.00         0.00   \n",
       "22          direct_clicks_per_campaign        -0.00         0.00   \n",
       "547                 mean_direct_clicks        -0.17        -0.46   \n",
       "553                          locale_IT        -1.22        -1.65   \n",
       "3                            locale_UK         1.64         1.61   \n",
       "1                            locale_US         2.26         2.00   \n",
       "20            direct_cost_per_campaign        -0.00        -0.00   \n",
       "7                         city_Verbier         1.23         2.68   \n",
       "539                  days_till_convert        -0.01        -0.01   \n",
       "28                              rating         0.00         0.00   \n",
       "\n",
       "     feature_imp_randfor  \n",
       "21                  0.36  \n",
       "22                  0.23  \n",
       "547                 0.18  \n",
       "553                 0.03  \n",
       "3                   0.03  \n",
       "1                   0.03  \n",
       "20                  0.02  \n",
       "7                   0.02  \n",
       "539                 0.01  \n",
       "28                  0.01  "
      ]
     },
     "execution_count": 117,
     "metadata": {},
     "output_type": "execute_result"
    }
   ],
   "source": [
    "feature_importances_rf.sort_values(by='feature_imp_randfor', ascending=False)[:10]"
   ]
  },
  {
   "cell_type": "markdown",
   "metadata": {},
   "source": [
    "# 4 - Baseline Conclusion\n",
    "\n",
    "The Random Forest Regressor had the best performance comparing to Ridge and Lasso regression models.\n",
    "\n",
    "Random Forest can be very time consuming, but as the data sample is not big, I trained it with ease. \n",
    "\n",
    "The results of fitting this model proves a benefit of Random Forest, it usually capture the dependencies between features, much better than Linear Regression models like Ridge and Lasso.\n",
    "\n",
    "As BVPC is calculated by dividind direct_booking_value by direct_clicks, I expected all models to perform much better, since we have the those two information in the dataset. And the table above proves how much better RF will perform, since the relationship sen is not linear."
   ]
  }
 ],
 "metadata": {
  "kernelspec": {
   "display_name": "Python 3",
   "language": "python",
   "name": "python3"
  },
  "language_info": {
   "codemirror_mode": {
    "name": "ipython",
    "version": 3
   },
   "file_extension": ".py",
   "mimetype": "text/x-python",
   "name": "python",
   "nbconvert_exporter": "python",
   "pygments_lexer": "ipython3",
   "version": "3.5.3"
  }
 },
 "nbformat": 4,
 "nbformat_minor": 2
}
